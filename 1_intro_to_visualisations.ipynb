{
 "cells": [
  {
   "cell_type": "markdown",
   "id": "e5b9804b-ff76-40ab-98c9-f28593372b59",
   "metadata": {},
   "source": [
    "# 1. Introduction to visualisations"
   ]
  },
  {
   "cell_type": "code",
   "execution_count": null,
   "id": "3053fae1-7f9a-402d-9131-977ddbe52c3a",
   "metadata": {},
   "outputs": [],
   "source": [
    "import pandas as pd\n",
    "import plotly.express as px"
   ]
  },
  {
   "cell_type": "markdown",
   "id": "b541dc20-4321-40e9-8bfc-ad9c76bf0987",
   "metadata": {},
   "source": [
    "This is a layout helper function that is making our plots look a bit nicer, i.e. no grid in the background."
   ]
  },
  {
   "cell_type": "code",
   "execution_count": null,
   "id": "4f116ba4-f35c-4bc5-a146-435fdd661c20",
   "metadata": {},
   "outputs": [],
   "source": [
    "def layout_helper(fig):\n",
    "    fig.update_layout(xaxis=dict(showgrid=False), yaxis=dict(showgrid=False))\n",
    "    fig.update_layout({'plot_bgcolor':'rgba(0,0,0,0)', 'paper_bgcolor':'rgba(0,0,0,0)'})\n",
    "    fig.update_layout(yaxis_title = None, xaxis_title = None)\n",
    "    return fig"
   ]
  },
  {
   "cell_type": "markdown",
   "id": "72bceeff-458c-4e3e-991c-f8313019c77f",
   "metadata": {},
   "source": [
    "### 1.1 Exploratory to explanatory data analysis\n",
    "In this part, we will show you some basics about visualisations based on the *canton* dataset.\n",
    "We will focus on the most up-to-date data, which comes from the year 2018."
   ]
  },
  {
   "cell_type": "code",
   "execution_count": null,
   "id": "d927a63e-f75d-4871-9433-66252ed6d309",
   "metadata": {},
   "outputs": [],
   "source": [
    "df = pd.read_csv('https://thomann-public.s3.eu-west-1.amazonaws.com/jst-mapviz/cantons.csv')"
   ]
  },
  {
   "cell_type": "code",
   "execution_count": null,
   "id": "5fe6e75f-6a7c-46a0-bd2d-782698e85fad",
   "metadata": {},
   "outputs": [],
   "source": [
    "df = df[df['year'] == 2018]"
   ]
  },
  {
   "cell_type": "code",
   "execution_count": null,
   "id": "35a64e2f-3f16-4dae-ae4d-8c0d1ae617f6",
   "metadata": {},
   "outputs": [],
   "source": [
    "df.head()"
   ]
  },
  {
   "cell_type": "code",
   "execution_count": null,
   "id": "fb43e3dc-45f7-42f6-b8ec-517608215d3c",
   "metadata": {},
   "outputs": [],
   "source": [
    "var_x=df.canton\n",
    "var_y=df.taxable_income_chf"
   ]
  },
  {
   "cell_type": "code",
   "execution_count": null,
   "id": "0fb7e763-aeca-4c99-9669-30e0d0240c01",
   "metadata": {},
   "outputs": [],
   "source": [
    "fig = px.bar(x=var_x,\n",
    "             y=var_y)\n",
    "layout_helper(fig).show()"
   ]
  },
  {
   "cell_type": "markdown",
   "id": "8167f2d2-a08f-483c-84bf-14b305a6aec4",
   "metadata": {},
   "source": [
    "### Sorting\n",
    "With this, we can look at the total taxable income in each canton, but it is a bit unordered and we don't see a quick message.\n",
    "That's why in the next chart, we will try sorting:"
   ]
  },
  {
   "cell_type": "code",
   "execution_count": null,
   "id": "60b94b81-82a5-4f58-a233-b9d06497471d",
   "metadata": {},
   "outputs": [],
   "source": [
    "fig = px.bar(x=df.sort_values(by='taxable_income_chf',ascending=False).canton,\n",
    "             y=df.sort_values(by='taxable_income_chf',ascending=False).taxable_income_chf)\n",
    "layout_helper(fig).show()"
   ]
  },
  {
   "cell_type": "markdown",
   "id": "7fafb76b-563e-410a-a6fe-f695d7a3a75e",
   "metadata": {},
   "source": [
    "### Vertical orientation for better readability\n",
    "Although vertical bar chart is the most typical one, it is usually better to go for *vertical* bar chart instead, because the horizontal labels are much easier to read."
   ]
  },
  {
   "cell_type": "code",
   "execution_count": null,
   "id": "bb972a1a-7f97-4b9f-976c-041c927c44a4",
   "metadata": {},
   "outputs": [],
   "source": [
    "fig = px.bar(y=df.sort_values(by='taxable_income_chf',ascending=True).canton[len(df)-5:],\n",
    "             x=df.sort_values(by='taxable_income_chf',ascending=True).taxable_income_chf[len(df)-5:],\n",
    "            orientation='h')\n",
    "layout_helper(fig).show()"
   ]
  },
  {
   "cell_type": "markdown",
   "id": "12dee496-38d4-43e7-92fc-8e7bd20d8834",
   "metadata": {},
   "source": [
    "### Add labels and remove the unnecessary\n",
    "Last, we will add the actual value of the bars directly as label to the bars. Like this, we don't need the x-axis anymore and can set it to invisible:"
   ]
  },
  {
   "cell_type": "code",
   "execution_count": null,
   "id": "ad6e2d79-4ecc-4fd9-9d86-aa1f98769ecc",
   "metadata": {},
   "outputs": [],
   "source": [
    "fig = px.bar(y=df.sort_values(by='taxable_income_chf',ascending=True).canton,\n",
    "             x=df.sort_values(by='taxable_income_chf',ascending=True).taxable_income_chf,\n",
    "            orientation='h',text_auto='.5s',\n",
    "            width=700,height=600)\n",
    "\n",
    "fig.show()"
   ]
  },
  {
   "cell_type": "markdown",
   "id": "ecdced74-bfa1-4051-a13b-8205f9c8f1d3",
   "metadata": {},
   "source": [
    "We don't need gridlines, axis titles, and axis labels actually. This is just distraction from the message."
   ]
  },
  {
   "cell_type": "code",
   "execution_count": null,
   "id": "2d149941-b4bf-4b87-b3a5-9ac7eb5de853",
   "metadata": {},
   "outputs": [],
   "source": [
    "fig = px.bar(y=df.sort_values(by='taxable_income_chf',ascending=True).canton,\n",
    "             x=df.sort_values(by='taxable_income_chf',ascending=True).taxable_income_chf,\n",
    "            orientation='h',\n",
    "            text_auto='.5s',width=700,height=600)\n",
    "\n",
    "# we don't need the xaxis anymore, because we have the labels\n",
    "fig.update_xaxes(visible=False)\n",
    "\n",
    "layout_helper(fig).show()"
   ]
  },
  {
   "cell_type": "markdown",
   "id": "aa201cab-b6e5-4fd5-becd-129563c283bd",
   "metadata": {},
   "source": [
    "Now, compare this chart to a pie chart. Which one do you find easier?"
   ]
  },
  {
   "cell_type": "code",
   "execution_count": null,
   "id": "817d4c47-8035-49ad-b25a-da33ab96c2ee",
   "metadata": {},
   "outputs": [],
   "source": [
    "fig = px.pie(df, values='taxable_income_chf', names='canton',width=800,height=800)\n",
    "fig.show()"
   ]
  },
  {
   "cell_type": "markdown",
   "id": "a88044fd-ac35-40ba-a166-8830f20c5fa5",
   "metadata": {},
   "source": [
    "## Exercises\n",
    "Now, we will dig into the *communities* dataset, and we would like you to answer the following questions by choosing an appropriate visualisation type.\n",
    "\n",
    "1) Which are the top 10 communities by taxable income per capita in the year of 2018?\n",
    "You can get community data from https://thomann-public.s3.eu-west-1.amazonaws.com/jst-mapviz/communities.csv\n",
    "2) How could you highlight a certain community, say the city of Wollerau, in this chart?\n",
    "Consider using preattentive attributes.\n",
    "\n",
    "Hint: remove Nan-values from the dataframe first and filter it to the year of interest!"
   ]
  },
  {
   "cell_type": "code",
   "execution_count": null,
   "id": "0a3f4abd-4417-4bf1-86f4-877a7d6b4a93",
   "metadata": {},
   "outputs": [],
   "source": []
  },
  {
   "cell_type": "code",
   "execution_count": null,
   "id": "caca97ad-ffe3-49d9-b81d-55f8920eda6e",
   "metadata": {},
   "outputs": [],
   "source": []
  },
  {
   "cell_type": "code",
   "execution_count": null,
   "id": "02db773e-6e1c-4f5c-9658-1017fd79ec1b",
   "metadata": {},
   "outputs": [],
   "source": []
  },
  {
   "cell_type": "code",
   "execution_count": null,
   "id": "da12834b-ec82-4f88-aa81-2c37f51cce86",
   "metadata": {},
   "outputs": [],
   "source": []
  }
 ],
 "metadata": {
  "kernelspec": {
   "display_name": "Python [conda env:visuals] *",
   "language": "python",
   "name": "conda-env-visuals-py"
  },
  "language_info": {
   "codemirror_mode": {
    "name": "ipython",
    "version": 3
   },
   "file_extension": ".py",
   "mimetype": "text/x-python",
   "name": "python",
   "nbconvert_exporter": "python",
   "pygments_lexer": "ipython3",
   "version": "3.9.7"
  }
 },
 "nbformat": 4,
 "nbformat_minor": 5
}
