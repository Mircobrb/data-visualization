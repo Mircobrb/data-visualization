{
 "cells": [
  {
   "cell_type": "code",
   "execution_count": 1,
   "id": "a76dd7c8-867e-4b02-ba57-51e36bb784c1",
   "metadata": {},
   "outputs": [],
   "source": [
    "import plotly.express as px\n",
    "import pandas as pd\n",
    "import numpy as np"
   ]
  },
  {
   "cell_type": "code",
   "execution_count": 39,
   "id": "beb2eba6-142b-49a7-8fd6-68fe85d839a0",
   "metadata": {},
   "outputs": [],
   "source": [
    "import plotly.graph_objects as go\n",
    "from plotly.colors import n_colors"
   ]
  },
  {
   "cell_type": "markdown",
   "id": "a6a82716-e260-4556-a50f-79cf7026164b",
   "metadata": {},
   "source": [
    "This is a layout helper function that is making our plots look a bit nicer, i.e. no grid in the background."
   ]
  },
  {
   "cell_type": "code",
   "execution_count": 2,
   "id": "794c27f2-bf48-4394-8a78-161a15742a19",
   "metadata": {},
   "outputs": [],
   "source": [
    "def layout_helper(fig):\n",
    "    fig.update_layout(xaxis=dict(showgrid=False), yaxis=dict(showgrid=False))\n",
    "    fig.update_layout({'plot_bgcolor':'rgba(0,0,0,0)', 'paper_bgcolor':'rgba(0,0,0,0)'})\n",
    "    fig.update_layout(yaxis_title = None, xaxis_title = None)\n",
    "    return fig"
   ]
  },
  {
   "cell_type": "markdown",
   "id": "391fe023-b347-425d-a9c0-33125f9d7199",
   "metadata": {},
   "source": [
    "## Demo"
   ]
  },
  {
   "cell_type": "code",
   "execution_count": 3,
   "id": "bf1c9f9d-a91c-49e6-82b0-61ebf1306b44",
   "metadata": {},
   "outputs": [],
   "source": [
    "df = pd.read_csv('data/final/cantons.csv')"
   ]
  },
  {
   "cell_type": "markdown",
   "id": "3f8f889f-a57a-483a-a45b-d681bacb5d3c",
   "metadata": {},
   "source": [
    "The most basic visualisation type is: a simple number!"
   ]
  },
  {
   "cell_type": "code",
   "execution_count": 6,
   "id": "d884ea3e-26e5-49d8-87d9-47caad96f0ef",
   "metadata": {},
   "outputs": [
    {
     "data": {
      "text/html": [
       "<h1>26 cantons.</h1>"
      ],
      "text/plain": [
       "<IPython.core.display.HTML object>"
      ]
     },
     "metadata": {},
     "output_type": "display_data"
    }
   ],
   "source": [
    "from IPython.core.display import display, HTML\n",
    "display(HTML('<h1>{} cantons.</h1>'.format(len(df.canton.unique()))))"
   ]
  },
  {
   "cell_type": "markdown",
   "id": "bdb14807-08fb-4988-9d3b-2d23f6781d6d",
   "metadata": {},
   "source": [
    "Other well known-visualisation type: a table."
   ]
  },
  {
   "cell_type": "code",
   "execution_count": 24,
   "id": "f4bd9c31-7517-458b-a500-1ff4dd75bfed",
   "metadata": {},
   "outputs": [
    {
     "data": {
      "text/html": [
       "<div>\n",
       "<style scoped>\n",
       "    .dataframe tbody tr th:only-of-type {\n",
       "        vertical-align: middle;\n",
       "    }\n",
       "\n",
       "    .dataframe tbody tr th {\n",
       "        vertical-align: top;\n",
       "    }\n",
       "\n",
       "    .dataframe thead th {\n",
       "        text-align: right;\n",
       "    }\n",
       "</style>\n",
       "<table border=\"1\" class=\"dataframe\">\n",
       "  <thead>\n",
       "    <tr style=\"text-align: right;\">\n",
       "      <th></th>\n",
       "      <th>canton</th>\n",
       "      <th>year</th>\n",
       "      <th>taxable_income_chf</th>\n",
       "      <th>taxable_income_per_capita</th>\n",
       "    </tr>\n",
       "  </thead>\n",
       "  <tbody>\n",
       "    <tr>\n",
       "      <th>9</th>\n",
       "      <td>Aargau</td>\n",
       "      <td>2010</td>\n",
       "      <td>20044000000</td>\n",
       "      <td>68237</td>\n",
       "    </tr>\n",
       "    <tr>\n",
       "      <th>22</th>\n",
       "      <td>Aargau</td>\n",
       "      <td>2011</td>\n",
       "      <td>19309000000</td>\n",
       "      <td>70915</td>\n",
       "    </tr>\n",
       "    <tr>\n",
       "      <th>35</th>\n",
       "      <td>Aargau</td>\n",
       "      <td>2012</td>\n",
       "      <td>19696000000</td>\n",
       "      <td>71167</td>\n",
       "    </tr>\n",
       "    <tr>\n",
       "      <th>48</th>\n",
       "      <td>Aargau</td>\n",
       "      <td>2013</td>\n",
       "      <td>20105000000</td>\n",
       "      <td>71290</td>\n",
       "    </tr>\n",
       "    <tr>\n",
       "      <th>61</th>\n",
       "      <td>Aargau</td>\n",
       "      <td>2014</td>\n",
       "      <td>20489000000</td>\n",
       "      <td>71410</td>\n",
       "    </tr>\n",
       "    <tr>\n",
       "      <th>74</th>\n",
       "      <td>Aargau</td>\n",
       "      <td>2015</td>\n",
       "      <td>20881000000</td>\n",
       "      <td>71978</td>\n",
       "    </tr>\n",
       "    <tr>\n",
       "      <th>87</th>\n",
       "      <td>Aargau</td>\n",
       "      <td>2016</td>\n",
       "      <td>21769000000</td>\n",
       "      <td>73410</td>\n",
       "    </tr>\n",
       "    <tr>\n",
       "      <th>91</th>\n",
       "      <td>Aargau</td>\n",
       "      <td>2017</td>\n",
       "      <td>22175000000</td>\n",
       "      <td>74000</td>\n",
       "    </tr>\n",
       "    <tr>\n",
       "      <th>113</th>\n",
       "      <td>Aargau</td>\n",
       "      <td>2018</td>\n",
       "      <td>22852000000</td>\n",
       "      <td>74614</td>\n",
       "    </tr>\n",
       "  </tbody>\n",
       "</table>\n",
       "</div>"
      ],
      "text/plain": [
       "     canton  year  taxable_income_chf  taxable_income_per_capita\n",
       "9    Aargau  2010         20044000000                      68237\n",
       "22   Aargau  2011         19309000000                      70915\n",
       "35   Aargau  2012         19696000000                      71167\n",
       "48   Aargau  2013         20105000000                      71290\n",
       "61   Aargau  2014         20489000000                      71410\n",
       "74   Aargau  2015         20881000000                      71978\n",
       "87   Aargau  2016         21769000000                      73410\n",
       "91   Aargau  2017         22175000000                      74000\n",
       "113  Aargau  2018         22852000000                      74614"
      ]
     },
     "execution_count": 24,
     "metadata": {},
     "output_type": "execute_result"
    }
   ],
   "source": [
    "# out-of-the-box table visualisation in jupyter lab:\n",
    "df[df.canton == 'Aargau'].head(10)"
   ]
  },
  {
   "cell_type": "code",
   "execution_count": 70,
   "id": "8c833f18-480d-49e0-ba37-0155a8e3673b",
   "metadata": {},
   "outputs": [],
   "source": [
    "cantons = df.sort_values(by='canton').canton.unique()\n",
    "tax_2016 = df[df.year==2016].sort_values(by='canton').taxable_income_per_capita.reset_index(drop=True)\n",
    "tax_2017 = df[df.year==2017].sort_values(by='canton').taxable_income_per_capita.reset_index(drop=True)\n",
    "tax_2018 = df[df.year==2018].sort_values(by='canton').taxable_income_per_capita.reset_index(drop=True)"
   ]
  },
  {
   "cell_type": "code",
   "execution_count": 36,
   "id": "c9a34278-c304-4719-968f-1861b493726b",
   "metadata": {
    "tags": []
   },
   "outputs": [
    {
     "data": {
      "application/vnd.plotly.v1+json": {
       "config": {
        "plotlyServerURL": "https://plot.ly"
       },
       "data": [
        {
         "cells": {
          "values": [
           [
            "Aargau",
            "Appenzell Ausserrhoden",
            "Appenzell Innerrhoden",
            "Basel-Landschaft",
            "Basel-Stadt",
            "Bern",
            "Freiburg",
            "Genf",
            "Glarus",
            "Graubünden",
            "Jura",
            "Luzern",
            "Neuenburg",
            "Nidwalden",
            "Obwalden",
            "Schaffhausen",
            "Schwyz",
            "Solothurn",
            "St. Gallen",
            "Tessin",
            "Thurgau",
            "Uri",
            "Waadt",
            "Wallis",
            "Zug",
            "Zürich"
           ],
           [
            73410,
            70571,
            72455,
            83760,
            85981,
            68275,
            70195,
            99031,
            63242,
            64208,
            60649,
            71299,
            68413,
            89551,
            74748,
            67718,
            109203,
            69261,
            66563,
            73171,
            70008,
            63897,
            84797,
            59272,
            118269,
            86827
           ],
           [
            74000,
            71000,
            77000,
            87000,
            87000,
            68000,
            70000,
            98000,
            63000,
            65000,
            61000,
            73000,
            69000,
            92000,
            79000,
            68000,
            110000,
            70000,
            67000,
            74000,
            71000,
            65000,
            85000,
            59000,
            122000,
            88000
           ],
           [
            74614,
            71354,
            75562,
            84814,
            88144,
            69003,
            70828,
            97861,
            64093,
            65248,
            61674,
            73632,
            68828,
            90082,
            77217,
            68752,
            112362,
            69597,
            67575,
            74048,
            71372,
            65327,
            85438,
            60188,
            126894,
            88633
           ]
          ]
         },
         "header": {
          "align": "center",
          "fill": {
           "color": "black"
          },
          "font": {
           "color": "white",
           "size": 10
          },
          "line": {
           "color": "white"
          },
          "values": [
           "canton",
           "Taxable income per capita [2016]",
           "Taxable income per capita [2017]",
           "Taxable income per capita [2018]"
          ]
         },
         "type": "table"
        }
       ],
       "layout": {
        "autosize": true,
        "template": {
         "data": {
          "bar": [
           {
            "error_x": {
             "color": "#2a3f5f"
            },
            "error_y": {
             "color": "#2a3f5f"
            },
            "marker": {
             "line": {
              "color": "#E5ECF6",
              "width": 0.5
             },
             "pattern": {
              "fillmode": "overlay",
              "size": 10,
              "solidity": 0.2
             }
            },
            "type": "bar"
           }
          ],
          "barpolar": [
           {
            "marker": {
             "line": {
              "color": "#E5ECF6",
              "width": 0.5
             },
             "pattern": {
              "fillmode": "overlay",
              "size": 10,
              "solidity": 0.2
             }
            },
            "type": "barpolar"
           }
          ],
          "carpet": [
           {
            "aaxis": {
             "endlinecolor": "#2a3f5f",
             "gridcolor": "white",
             "linecolor": "white",
             "minorgridcolor": "white",
             "startlinecolor": "#2a3f5f"
            },
            "baxis": {
             "endlinecolor": "#2a3f5f",
             "gridcolor": "white",
             "linecolor": "white",
             "minorgridcolor": "white",
             "startlinecolor": "#2a3f5f"
            },
            "type": "carpet"
           }
          ],
          "choropleth": [
           {
            "colorbar": {
             "outlinewidth": 0,
             "ticks": ""
            },
            "type": "choropleth"
           }
          ],
          "contour": [
           {
            "colorbar": {
             "outlinewidth": 0,
             "ticks": ""
            },
            "colorscale": [
             [
              0,
              "#0d0887"
             ],
             [
              0.1111111111111111,
              "#46039f"
             ],
             [
              0.2222222222222222,
              "#7201a8"
             ],
             [
              0.3333333333333333,
              "#9c179e"
             ],
             [
              0.4444444444444444,
              "#bd3786"
             ],
             [
              0.5555555555555556,
              "#d8576b"
             ],
             [
              0.6666666666666666,
              "#ed7953"
             ],
             [
              0.7777777777777778,
              "#fb9f3a"
             ],
             [
              0.8888888888888888,
              "#fdca26"
             ],
             [
              1,
              "#f0f921"
             ]
            ],
            "type": "contour"
           }
          ],
          "contourcarpet": [
           {
            "colorbar": {
             "outlinewidth": 0,
             "ticks": ""
            },
            "type": "contourcarpet"
           }
          ],
          "heatmap": [
           {
            "colorbar": {
             "outlinewidth": 0,
             "ticks": ""
            },
            "colorscale": [
             [
              0,
              "#0d0887"
             ],
             [
              0.1111111111111111,
              "#46039f"
             ],
             [
              0.2222222222222222,
              "#7201a8"
             ],
             [
              0.3333333333333333,
              "#9c179e"
             ],
             [
              0.4444444444444444,
              "#bd3786"
             ],
             [
              0.5555555555555556,
              "#d8576b"
             ],
             [
              0.6666666666666666,
              "#ed7953"
             ],
             [
              0.7777777777777778,
              "#fb9f3a"
             ],
             [
              0.8888888888888888,
              "#fdca26"
             ],
             [
              1,
              "#f0f921"
             ]
            ],
            "type": "heatmap"
           }
          ],
          "heatmapgl": [
           {
            "colorbar": {
             "outlinewidth": 0,
             "ticks": ""
            },
            "colorscale": [
             [
              0,
              "#0d0887"
             ],
             [
              0.1111111111111111,
              "#46039f"
             ],
             [
              0.2222222222222222,
              "#7201a8"
             ],
             [
              0.3333333333333333,
              "#9c179e"
             ],
             [
              0.4444444444444444,
              "#bd3786"
             ],
             [
              0.5555555555555556,
              "#d8576b"
             ],
             [
              0.6666666666666666,
              "#ed7953"
             ],
             [
              0.7777777777777778,
              "#fb9f3a"
             ],
             [
              0.8888888888888888,
              "#fdca26"
             ],
             [
              1,
              "#f0f921"
             ]
            ],
            "type": "heatmapgl"
           }
          ],
          "histogram": [
           {
            "marker": {
             "pattern": {
              "fillmode": "overlay",
              "size": 10,
              "solidity": 0.2
             }
            },
            "type": "histogram"
           }
          ],
          "histogram2d": [
           {
            "colorbar": {
             "outlinewidth": 0,
             "ticks": ""
            },
            "colorscale": [
             [
              0,
              "#0d0887"
             ],
             [
              0.1111111111111111,
              "#46039f"
             ],
             [
              0.2222222222222222,
              "#7201a8"
             ],
             [
              0.3333333333333333,
              "#9c179e"
             ],
             [
              0.4444444444444444,
              "#bd3786"
             ],
             [
              0.5555555555555556,
              "#d8576b"
             ],
             [
              0.6666666666666666,
              "#ed7953"
             ],
             [
              0.7777777777777778,
              "#fb9f3a"
             ],
             [
              0.8888888888888888,
              "#fdca26"
             ],
             [
              1,
              "#f0f921"
             ]
            ],
            "type": "histogram2d"
           }
          ],
          "histogram2dcontour": [
           {
            "colorbar": {
             "outlinewidth": 0,
             "ticks": ""
            },
            "colorscale": [
             [
              0,
              "#0d0887"
             ],
             [
              0.1111111111111111,
              "#46039f"
             ],
             [
              0.2222222222222222,
              "#7201a8"
             ],
             [
              0.3333333333333333,
              "#9c179e"
             ],
             [
              0.4444444444444444,
              "#bd3786"
             ],
             [
              0.5555555555555556,
              "#d8576b"
             ],
             [
              0.6666666666666666,
              "#ed7953"
             ],
             [
              0.7777777777777778,
              "#fb9f3a"
             ],
             [
              0.8888888888888888,
              "#fdca26"
             ],
             [
              1,
              "#f0f921"
             ]
            ],
            "type": "histogram2dcontour"
           }
          ],
          "mesh3d": [
           {
            "colorbar": {
             "outlinewidth": 0,
             "ticks": ""
            },
            "type": "mesh3d"
           }
          ],
          "parcoords": [
           {
            "line": {
             "colorbar": {
              "outlinewidth": 0,
              "ticks": ""
             }
            },
            "type": "parcoords"
           }
          ],
          "pie": [
           {
            "automargin": true,
            "type": "pie"
           }
          ],
          "scatter": [
           {
            "marker": {
             "colorbar": {
              "outlinewidth": 0,
              "ticks": ""
             }
            },
            "type": "scatter"
           }
          ],
          "scatter3d": [
           {
            "line": {
             "colorbar": {
              "outlinewidth": 0,
              "ticks": ""
             }
            },
            "marker": {
             "colorbar": {
              "outlinewidth": 0,
              "ticks": ""
             }
            },
            "type": "scatter3d"
           }
          ],
          "scattercarpet": [
           {
            "marker": {
             "colorbar": {
              "outlinewidth": 0,
              "ticks": ""
             }
            },
            "type": "scattercarpet"
           }
          ],
          "scattergeo": [
           {
            "marker": {
             "colorbar": {
              "outlinewidth": 0,
              "ticks": ""
             }
            },
            "type": "scattergeo"
           }
          ],
          "scattergl": [
           {
            "marker": {
             "colorbar": {
              "outlinewidth": 0,
              "ticks": ""
             }
            },
            "type": "scattergl"
           }
          ],
          "scattermapbox": [
           {
            "marker": {
             "colorbar": {
              "outlinewidth": 0,
              "ticks": ""
             }
            },
            "type": "scattermapbox"
           }
          ],
          "scatterpolar": [
           {
            "marker": {
             "colorbar": {
              "outlinewidth": 0,
              "ticks": ""
             }
            },
            "type": "scatterpolar"
           }
          ],
          "scatterpolargl": [
           {
            "marker": {
             "colorbar": {
              "outlinewidth": 0,
              "ticks": ""
             }
            },
            "type": "scatterpolargl"
           }
          ],
          "scatterternary": [
           {
            "marker": {
             "colorbar": {
              "outlinewidth": 0,
              "ticks": ""
             }
            },
            "type": "scatterternary"
           }
          ],
          "surface": [
           {
            "colorbar": {
             "outlinewidth": 0,
             "ticks": ""
            },
            "colorscale": [
             [
              0,
              "#0d0887"
             ],
             [
              0.1111111111111111,
              "#46039f"
             ],
             [
              0.2222222222222222,
              "#7201a8"
             ],
             [
              0.3333333333333333,
              "#9c179e"
             ],
             [
              0.4444444444444444,
              "#bd3786"
             ],
             [
              0.5555555555555556,
              "#d8576b"
             ],
             [
              0.6666666666666666,
              "#ed7953"
             ],
             [
              0.7777777777777778,
              "#fb9f3a"
             ],
             [
              0.8888888888888888,
              "#fdca26"
             ],
             [
              1,
              "#f0f921"
             ]
            ],
            "type": "surface"
           }
          ],
          "table": [
           {
            "cells": {
             "fill": {
              "color": "#EBF0F8"
             },
             "line": {
              "color": "white"
             }
            },
            "header": {
             "fill": {
              "color": "#C8D4E3"
             },
             "line": {
              "color": "white"
             }
            },
            "type": "table"
           }
          ]
         },
         "layout": {
          "annotationdefaults": {
           "arrowcolor": "#2a3f5f",
           "arrowhead": 0,
           "arrowwidth": 1
          },
          "autotypenumbers": "strict",
          "coloraxis": {
           "colorbar": {
            "outlinewidth": 0,
            "ticks": ""
           }
          },
          "colorscale": {
           "diverging": [
            [
             0,
             "#8e0152"
            ],
            [
             0.1,
             "#c51b7d"
            ],
            [
             0.2,
             "#de77ae"
            ],
            [
             0.3,
             "#f1b6da"
            ],
            [
             0.4,
             "#fde0ef"
            ],
            [
             0.5,
             "#f7f7f7"
            ],
            [
             0.6,
             "#e6f5d0"
            ],
            [
             0.7,
             "#b8e186"
            ],
            [
             0.8,
             "#7fbc41"
            ],
            [
             0.9,
             "#4d9221"
            ],
            [
             1,
             "#276419"
            ]
           ],
           "sequential": [
            [
             0,
             "#0d0887"
            ],
            [
             0.1111111111111111,
             "#46039f"
            ],
            [
             0.2222222222222222,
             "#7201a8"
            ],
            [
             0.3333333333333333,
             "#9c179e"
            ],
            [
             0.4444444444444444,
             "#bd3786"
            ],
            [
             0.5555555555555556,
             "#d8576b"
            ],
            [
             0.6666666666666666,
             "#ed7953"
            ],
            [
             0.7777777777777778,
             "#fb9f3a"
            ],
            [
             0.8888888888888888,
             "#fdca26"
            ],
            [
             1,
             "#f0f921"
            ]
           ],
           "sequentialminus": [
            [
             0,
             "#0d0887"
            ],
            [
             0.1111111111111111,
             "#46039f"
            ],
            [
             0.2222222222222222,
             "#7201a8"
            ],
            [
             0.3333333333333333,
             "#9c179e"
            ],
            [
             0.4444444444444444,
             "#bd3786"
            ],
            [
             0.5555555555555556,
             "#d8576b"
            ],
            [
             0.6666666666666666,
             "#ed7953"
            ],
            [
             0.7777777777777778,
             "#fb9f3a"
            ],
            [
             0.8888888888888888,
             "#fdca26"
            ],
            [
             1,
             "#f0f921"
            ]
           ]
          },
          "colorway": [
           "#636efa",
           "#EF553B",
           "#00cc96",
           "#ab63fa",
           "#FFA15A",
           "#19d3f3",
           "#FF6692",
           "#B6E880",
           "#FF97FF",
           "#FECB52"
          ],
          "font": {
           "color": "#2a3f5f"
          },
          "geo": {
           "bgcolor": "white",
           "lakecolor": "white",
           "landcolor": "#E5ECF6",
           "showlakes": true,
           "showland": true,
           "subunitcolor": "white"
          },
          "hoverlabel": {
           "align": "left"
          },
          "hovermode": "closest",
          "mapbox": {
           "style": "light"
          },
          "paper_bgcolor": "white",
          "plot_bgcolor": "#E5ECF6",
          "polar": {
           "angularaxis": {
            "gridcolor": "white",
            "linecolor": "white",
            "ticks": ""
           },
           "bgcolor": "#E5ECF6",
           "radialaxis": {
            "gridcolor": "white",
            "linecolor": "white",
            "ticks": ""
           }
          },
          "scene": {
           "xaxis": {
            "backgroundcolor": "#E5ECF6",
            "gridcolor": "white",
            "gridwidth": 2,
            "linecolor": "white",
            "showbackground": true,
            "ticks": "",
            "zerolinecolor": "white"
           },
           "yaxis": {
            "backgroundcolor": "#E5ECF6",
            "gridcolor": "white",
            "gridwidth": 2,
            "linecolor": "white",
            "showbackground": true,
            "ticks": "",
            "zerolinecolor": "white"
           },
           "zaxis": {
            "backgroundcolor": "#E5ECF6",
            "gridcolor": "white",
            "gridwidth": 2,
            "linecolor": "white",
            "showbackground": true,
            "ticks": "",
            "zerolinecolor": "white"
           }
          },
          "shapedefaults": {
           "line": {
            "color": "#2a3f5f"
           }
          },
          "ternary": {
           "aaxis": {
            "gridcolor": "white",
            "linecolor": "white",
            "ticks": ""
           },
           "baxis": {
            "gridcolor": "white",
            "linecolor": "white",
            "ticks": ""
           },
           "bgcolor": "#E5ECF6",
           "caxis": {
            "gridcolor": "white",
            "linecolor": "white",
            "ticks": ""
           }
          },
          "title": {
           "x": 0.05
          },
          "xaxis": {
           "automargin": true,
           "gridcolor": "white",
           "linecolor": "white",
           "ticks": "",
           "title": {
            "standoff": 15
           },
           "zerolinecolor": "white",
           "zerolinewidth": 2
          },
          "yaxis": {
           "automargin": true,
           "gridcolor": "white",
           "linecolor": "white",
           "ticks": "",
           "title": {
            "standoff": 15
           },
           "zerolinecolor": "white",
           "zerolinewidth": 2
          }
         }
        }
       }
      },
      "image/png": "[encoded data removed]",
      "text/html": [
       "<div>                            <div id=\"08b895ed-dd65-4e1a-9a19-8ac34bee897d\" class=\"plotly-graph-div\" style=\"height:525px; width:100%;\"></div>            <script type=\"text/javascript\">                require([\"plotly\"], function(Plotly) {                    window.PLOTLYENV=window.PLOTLYENV || {};                                    if (document.getElementById(\"08b895ed-dd65-4e1a-9a19-8ac34bee897d\")) {                    Plotly.newPlot(                        \"08b895ed-dd65-4e1a-9a19-8ac34bee897d\",                        [{\"cells\":{\"values\":[[\"Aargau\",\"Appenzell Ausserrhoden\",\"Appenzell Innerrhoden\",\"Basel-Landschaft\",\"Basel-Stadt\",\"Bern\",\"Freiburg\",\"Genf\",\"Glarus\",\"Graub\\u00fcnden\",\"Jura\",\"Luzern\",\"Neuenburg\",\"Nidwalden\",\"Obwalden\",\"Schaffhausen\",\"Schwyz\",\"Solothurn\",\"St. Gallen\",\"Tessin\",\"Thurgau\",\"Uri\",\"Waadt\",\"Wallis\",\"Zug\",\"Z\\u00fcrich\"],[73410,70571,72455,83760,85981,68275,70195,99031,63242,64208,60649,71299,68413,89551,74748,67718,109203,69261,66563,73171,70008,63897,84797,59272,118269,86827],[74000,71000,77000,87000,87000,68000,70000,98000,63000,65000,61000,73000,69000,92000,79000,68000,110000,70000,67000,74000,71000,65000,85000,59000,122000,88000],[74614,71354,75562,84814,88144,69003,70828,97861,64093,65248,61674,73632,68828,90082,77217,68752,112362,69597,67575,74048,71372,65327,85438,60188,126894,88633]]},\"header\":{\"align\":\"center\",\"fill\":{\"color\":\"black\"},\"font\":{\"color\":\"white\",\"size\":10},\"line\":{\"color\":\"white\"},\"values\":[\"canton\",\"Taxable income per capita [2016]\",\"Taxable income per capita [2017]\",\"Taxable income per capita [2018]\"]},\"type\":\"table\"}],                        {\"template\":{\"data\":{\"bar\":[{\"error_x\":{\"color\":\"#2a3f5f\"},\"error_y\":{\"color\":\"#2a3f5f\"},\"marker\":{\"line\":{\"color\":\"#E5ECF6\",\"width\":0.5},\"pattern\":{\"fillmode\":\"overlay\",\"size\":10,\"solidity\":0.2}},\"type\":\"bar\"}],\"barpolar\":[{\"marker\":{\"line\":{\"color\":\"#E5ECF6\",\"width\":0.5},\"pattern\":{\"fillmode\":\"overlay\",\"size\":10,\"solidity\":0.2}},\"type\":\"barpolar\"}],\"carpet\":[{\"aaxis\":{\"endlinecolor\":\"#2a3f5f\",\"gridcolor\":\"white\",\"linecolor\":\"white\",\"minorgridcolor\":\"white\",\"startlinecolor\":\"#2a3f5f\"},\"baxis\":{\"endlinecolor\":\"#2a3f5f\",\"gridcolor\":\"white\",\"linecolor\":\"white\",\"minorgridcolor\":\"white\",\"startlinecolor\":\"#2a3f5f\"},\"type\":\"carpet\"}],\"choropleth\":[{\"colorbar\":{\"outlinewidth\":0,\"ticks\":\"\"},\"type\":\"choropleth\"}],\"contour\":[{\"colorbar\":{\"outlinewidth\":0,\"ticks\":\"\"},\"colorscale\":[[0.0,\"#0d0887\"],[0.1111111111111111,\"#46039f\"],[0.2222222222222222,\"#7201a8\"],[0.3333333333333333,\"#9c179e\"],[0.4444444444444444,\"#bd3786\"],[0.5555555555555556,\"#d8576b\"],[0.6666666666666666,\"#ed7953\"],[0.7777777777777778,\"#fb9f3a\"],[0.8888888888888888,\"#fdca26\"],[1.0,\"#f0f921\"]],\"type\":\"contour\"}],\"contourcarpet\":[{\"colorbar\":{\"outlinewidth\":0,\"ticks\":\"\"},\"type\":\"contourcarpet\"}],\"heatmap\":[{\"colorbar\":{\"outlinewidth\":0,\"ticks\":\"\"},\"colorscale\":[[0.0,\"#0d0887\"],[0.1111111111111111,\"#46039f\"],[0.2222222222222222,\"#7201a8\"],[0.3333333333333333,\"#9c179e\"],[0.4444444444444444,\"#bd3786\"],[0.5555555555555556,\"#d8576b\"],[0.6666666666666666,\"#ed7953\"],[0.7777777777777778,\"#fb9f3a\"],[0.8888888888888888,\"#fdca26\"],[1.0,\"#f0f921\"]],\"type\":\"heatmap\"}],\"heatmapgl\":[{\"colorbar\":{\"outlinewidth\":0,\"ticks\":\"\"},\"colorscale\":[[0.0,\"#0d0887\"],[0.1111111111111111,\"#46039f\"],[0.2222222222222222,\"#7201a8\"],[0.3333333333333333,\"#9c179e\"],[0.4444444444444444,\"#bd3786\"],[0.5555555555555556,\"#d8576b\"],[0.6666666666666666,\"#ed7953\"],[0.7777777777777778,\"#fb9f3a\"],[0.8888888888888888,\"#fdca26\"],[1.0,\"#f0f921\"]],\"type\":\"heatmapgl\"}],\"histogram\":[{\"marker\":{\"pattern\":{\"fillmode\":\"overlay\",\"size\":10,\"solidity\":0.2}},\"type\":\"histogram\"}],\"histogram2d\":[{\"colorbar\":{\"outlinewidth\":0,\"ticks\":\"\"},\"colorscale\":[[0.0,\"#0d0887\"],[0.1111111111111111,\"#46039f\"],[0.2222222222222222,\"#7201a8\"],[0.3333333333333333,\"#9c179e\"],[0.4444444444444444,\"#bd3786\"],[0.5555555555555556,\"#d8576b\"],[0.6666666666666666,\"#ed7953\"],[0.7777777777777778,\"#fb9f3a\"],[0.8888888888888888,\"#fdca26\"],[1.0,\"#f0f921\"]],\"type\":\"histogram2d\"}],\"histogram2dcontour\":[{\"colorbar\":{\"outlinewidth\":0,\"ticks\":\"\"},\"colorscale\":[[0.0,\"#0d0887\"],[0.1111111111111111,\"#46039f\"],[0.2222222222222222,\"#7201a8\"],[0.3333333333333333,\"#9c179e\"],[0.4444444444444444,\"#bd3786\"],[0.5555555555555556,\"#d8576b\"],[0.6666666666666666,\"#ed7953\"],[0.7777777777777778,\"#fb9f3a\"],[0.8888888888888888,\"#fdca26\"],[1.0,\"#f0f921\"]],\"type\":\"histogram2dcontour\"}],\"mesh3d\":[{\"colorbar\":{\"outlinewidth\":0,\"ticks\":\"\"},\"type\":\"mesh3d\"}],\"parcoords\":[{\"line\":{\"colorbar\":{\"outlinewidth\":0,\"ticks\":\"\"}},\"type\":\"parcoords\"}],\"pie\":[{\"automargin\":true,\"type\":\"pie\"}],\"scatter\":[{\"marker\":{\"colorbar\":{\"outlinewidth\":0,\"ticks\":\"\"}},\"type\":\"scatter\"}],\"scatter3d\":[{\"line\":{\"colorbar\":{\"outlinewidth\":0,\"ticks\":\"\"}},\"marker\":{\"colorbar\":{\"outlinewidth\":0,\"ticks\":\"\"}},\"type\":\"scatter3d\"}],\"scattercarpet\":[{\"marker\":{\"colorbar\":{\"outlinewidth\":0,\"ticks\":\"\"}},\"type\":\"scattercarpet\"}],\"scattergeo\":[{\"marker\":{\"colorbar\":{\"outlinewidth\":0,\"ticks\":\"\"}},\"type\":\"scattergeo\"}],\"scattergl\":[{\"marker\":{\"colorbar\":{\"outlinewidth\":0,\"ticks\":\"\"}},\"type\":\"scattergl\"}],\"scattermapbox\":[{\"marker\":{\"colorbar\":{\"outlinewidth\":0,\"ticks\":\"\"}},\"type\":\"scattermapbox\"}],\"scatterpolar\":[{\"marker\":{\"colorbar\":{\"outlinewidth\":0,\"ticks\":\"\"}},\"type\":\"scatterpolar\"}],\"scatterpolargl\":[{\"marker\":{\"colorbar\":{\"outlinewidth\":0,\"ticks\":\"\"}},\"type\":\"scatterpolargl\"}],\"scatterternary\":[{\"marker\":{\"colorbar\":{\"outlinewidth\":0,\"ticks\":\"\"}},\"type\":\"scatterternary\"}],\"surface\":[{\"colorbar\":{\"outlinewidth\":0,\"ticks\":\"\"},\"colorscale\":[[0.0,\"#0d0887\"],[0.1111111111111111,\"#46039f\"],[0.2222222222222222,\"#7201a8\"],[0.3333333333333333,\"#9c179e\"],[0.4444444444444444,\"#bd3786\"],[0.5555555555555556,\"#d8576b\"],[0.6666666666666666,\"#ed7953\"],[0.7777777777777778,\"#fb9f3a\"],[0.8888888888888888,\"#fdca26\"],[1.0,\"#f0f921\"]],\"type\":\"surface\"}],\"table\":[{\"cells\":{\"fill\":{\"color\":\"#EBF0F8\"},\"line\":{\"color\":\"white\"}},\"header\":{\"fill\":{\"color\":\"#C8D4E3\"},\"line\":{\"color\":\"white\"}},\"type\":\"table\"}]},\"layout\":{\"annotationdefaults\":{\"arrowcolor\":\"#2a3f5f\",\"arrowhead\":0,\"arrowwidth\":1},\"autotypenumbers\":\"strict\",\"coloraxis\":{\"colorbar\":{\"outlinewidth\":0,\"ticks\":\"\"}},\"colorscale\":{\"diverging\":[[0,\"#8e0152\"],[0.1,\"#c51b7d\"],[0.2,\"#de77ae\"],[0.3,\"#f1b6da\"],[0.4,\"#fde0ef\"],[0.5,\"#f7f7f7\"],[0.6,\"#e6f5d0\"],[0.7,\"#b8e186\"],[0.8,\"#7fbc41\"],[0.9,\"#4d9221\"],[1,\"#276419\"]],\"sequential\":[[0.0,\"#0d0887\"],[0.1111111111111111,\"#46039f\"],[0.2222222222222222,\"#7201a8\"],[0.3333333333333333,\"#9c179e\"],[0.4444444444444444,\"#bd3786\"],[0.5555555555555556,\"#d8576b\"],[0.6666666666666666,\"#ed7953\"],[0.7777777777777778,\"#fb9f3a\"],[0.8888888888888888,\"#fdca26\"],[1.0,\"#f0f921\"]],\"sequentialminus\":[[0.0,\"#0d0887\"],[0.1111111111111111,\"#46039f\"],[0.2222222222222222,\"#7201a8\"],[0.3333333333333333,\"#9c179e\"],[0.4444444444444444,\"#bd3786\"],[0.5555555555555556,\"#d8576b\"],[0.6666666666666666,\"#ed7953\"],[0.7777777777777778,\"#fb9f3a\"],[0.8888888888888888,\"#fdca26\"],[1.0,\"#f0f921\"]]},\"colorway\":[\"#636efa\",\"#EF553B\",\"#00cc96\",\"#ab63fa\",\"#FFA15A\",\"#19d3f3\",\"#FF6692\",\"#B6E880\",\"#FF97FF\",\"#FECB52\"],\"font\":{\"color\":\"#2a3f5f\"},\"geo\":{\"bgcolor\":\"white\",\"lakecolor\":\"white\",\"landcolor\":\"#E5ECF6\",\"showlakes\":true,\"showland\":true,\"subunitcolor\":\"white\"},\"hoverlabel\":{\"align\":\"left\"},\"hovermode\":\"closest\",\"mapbox\":{\"style\":\"light\"},\"paper_bgcolor\":\"white\",\"plot_bgcolor\":\"#E5ECF6\",\"polar\":{\"angularaxis\":{\"gridcolor\":\"white\",\"linecolor\":\"white\",\"ticks\":\"\"},\"bgcolor\":\"#E5ECF6\",\"radialaxis\":{\"gridcolor\":\"white\",\"linecolor\":\"white\",\"ticks\":\"\"}},\"scene\":{\"xaxis\":{\"backgroundcolor\":\"#E5ECF6\",\"gridcolor\":\"white\",\"gridwidth\":2,\"linecolor\":\"white\",\"showbackground\":true,\"ticks\":\"\",\"zerolinecolor\":\"white\"},\"yaxis\":{\"backgroundcolor\":\"#E5ECF6\",\"gridcolor\":\"white\",\"gridwidth\":2,\"linecolor\":\"white\",\"showbackground\":true,\"ticks\":\"\",\"zerolinecolor\":\"white\"},\"zaxis\":{\"backgroundcolor\":\"#E5ECF6\",\"gridcolor\":\"white\",\"gridwidth\":2,\"linecolor\":\"white\",\"showbackground\":true,\"ticks\":\"\",\"zerolinecolor\":\"white\"}},\"shapedefaults\":{\"line\":{\"color\":\"#2a3f5f\"}},\"ternary\":{\"aaxis\":{\"gridcolor\":\"white\",\"linecolor\":\"white\",\"ticks\":\"\"},\"baxis\":{\"gridcolor\":\"white\",\"linecolor\":\"white\",\"ticks\":\"\"},\"bgcolor\":\"#E5ECF6\",\"caxis\":{\"gridcolor\":\"white\",\"linecolor\":\"white\",\"ticks\":\"\"}},\"title\":{\"x\":0.05},\"xaxis\":{\"automargin\":true,\"gridcolor\":\"white\",\"linecolor\":\"white\",\"ticks\":\"\",\"title\":{\"standoff\":15},\"zerolinecolor\":\"white\",\"zerolinewidth\":2},\"yaxis\":{\"automargin\":true,\"gridcolor\":\"white\",\"linecolor\":\"white\",\"ticks\":\"\",\"title\":{\"standoff\":15},\"zerolinecolor\":\"white\",\"zerolinewidth\":2}}}},                        {\"responsive\": true}                    ).then(function(){\n",
       "                            \n",
       "var gd = document.getElementById('08b895ed-dd65-4e1a-9a19-8ac34bee897d');\n",
       "var x = new MutationObserver(function (mutations, observer) {{\n",
       "        var display = window.getComputedStyle(gd).display;\n",
       "        if (!display || display === 'none') {{\n",
       "            console.log([gd, 'removed!']);\n",
       "            Plotly.purge(gd);\n",
       "            observer.disconnect();\n",
       "        }}\n",
       "}});\n",
       "\n",
       "// Listen for the removal of the full notebook cells\n",
       "var notebookContainer = gd.closest('#notebook-container');\n",
       "if (notebookContainer) {{\n",
       "    x.observe(notebookContainer, {childList: true});\n",
       "}}\n",
       "\n",
       "// Listen for the clearing of the current output cell\n",
       "var outputEl = gd.closest('.output');\n",
       "if (outputEl) {{\n",
       "    x.observe(outputEl, {childList: true});\n",
       "}}\n",
       "\n",
       "                        })                };                });            </script>        </div>"
      ]
     },
     "metadata": {},
     "output_type": "display_data"
    }
   ],
   "source": [
    "fig = go.Figure(data=[go.Table(\n",
    "    header = dict(\n",
    "        values=['canton','Taxable income per capita [2016]','Taxable income per capita [2017]','Taxable income per capita [2018]'],\n",
    "        line_color='white',fill_color='black',\n",
    "        align='center',font=dict(color='white',size=10)\n",
    "    ),\n",
    "    cells=dict(\n",
    "        values= [ cantons,tax_2016,tax_2017, tax_2018\n",
    "                ])\n",
    ")\n",
    "                     ])\n",
    "\n",
    "fig.show()"
   ]
  },
  {
   "cell_type": "code",
   "execution_count": 98,
   "id": "96254bab-565a-46f6-b8fd-7fd866bbcde6",
   "metadata": {
    "tags": []
   },
   "outputs": [
    {
     "data": {
      "application/vnd.plotly.v1+json": {
       "config": {
        "plotlyServerURL": "https://plot.ly"
       },
       "data": [
        {
         "cells": {
          "fill": {
           "color": [
            [
             "rgb(130.83340349802899, 167.1429063492671, 208.642887213441)",
             "rgb(135.01655248957098, 170.07654330437444, 210.43566535267328)",
             "rgb(132.2405564698228, 168.12974090091467, 209.2459527727812)",
             "rgb(115.58310689272456, 156.44789314554708, 202.10704581116767)",
             "rgb(112.31055532167323, 154.15285697883576, 200.70452370928854)",
             "rgb(138.39961345631292, 172.4490795667649, 211.88554862413412)",
             "rgb(135.57057292663325, 170.46507711737917, 210.67310268284282)",
             "rgb(93.08192047150675, 140.66784033066705, 192.46368020207433)",
             "rgb(145.81553063645757, 177.64985265413907, 215.0637988441961)",
             "rgb(144.3921696199625, 176.65165142179188, 214.45378697998393)",
             "rgb(149.63620881013435, 180.32928929541887, 216.70123234720043)",
             "rgb(133.94387462206743, 169.32427570898236, 209.97594626660032)",
             "rgb(138.19627616824218, 172.3064793907153, 211.79840407210378)",
             "rgb(107.0503080868001, 150.46385242450916, 198.45013203720004)",
             "rgb(128.8619158789085, 165.7603046423514, 207.79796394810364)",
             "rgb(139.22032990164183, 173.02464694400857, 212.2372842435608)",
             "rgb(78.09389949864135, 130.15676068735888, 186.04024264227488)",
             "rgb(136.94678326763366, 171.4302116422366, 211.26290711470014)",
             "rgb(140.92217459527728, 174.21814841746718, 212.96664625511883)",
             "rgb(131.18556010562975, 167.38987332083127, 208.79381147384134)",
             "rgb(135.84610968655517, 170.65831068927247, 210.7911898656665)",
             "rgb(144.8504152474262, 176.973018485208, 214.65017796318267)",
             "rgb(114.05513031497568, 155.37632515595698, 201.45219870641816)",
             "rgb(151.66516131501396, 181.7521910520877, 217.57078342072026)",
             "rgb(64.73552374756017, 120.78854912166557, 180.3152244632401)",
             "rgb(111.06400933828313, 153.2786558995752, 200.17028971640707)"
            ],
            [
             "rgb(129.9640629185962, 166.5332389299246, 208.2703126793984)",
             "rgb(134.38443874622067, 169.63324275708982, 210.164759462666)",
             "rgb(125.54368709097172, 163.4332351027594, 206.37586589613073)",
             "rgb(110.8091009988901, 153.09988901220865, 200.0610432852386)",
             "rgb(110.8091009988901, 153.09988901220865, 200.0610432852386)",
             "rgb(138.80481457384514, 172.73324658425503, 212.05920624593364)",
             "rgb(135.85789735542883, 170.6665773661449, 210.7962417237552)",
             "rgb(94.60105629760037, 141.73320831260284, 193.1147384132573)",
             "rgb(146.17210761988594, 177.89991962953042, 215.2166175513797)",
             "rgb(143.22519040146963, 175.83325041142024, 213.9536530292013)",
             "rgb(149.11902483830227, 179.96658884764054, 216.4795820735581)",
             "rgb(131.43752152780434, 167.56657353897967, 208.90179494048758)",
             "rgb(137.331355964637, 171.69991197519997, 211.42772398484442)",
             "rgb(103.44180795284933, 147.9332159669333, 196.90363197979258)",
             "rgb(122.5967698725554, 161.36656588464922, 205.11290137395233)",
             "rgb(138.80481457384514, 172.73324658425503, 212.05920624593364)",
             "rgb(76.91955298710243, 129.33319300394197, 185.53695128018677)",
             "rgb(135.85789735542883, 170.6665773661449, 210.7962417237552)",
             "rgb(140.2782731830533, 173.76658119331012, 212.69068850702286)",
             "rgb(129.9640629185962, 166.5332389299246, 208.2703126793984)",
             "rgb(134.38443874622067, 169.63324275708982, 210.164759462666)",
             "rgb(143.22519040146963, 175.83325041142024, 213.9536530292013)",
             "rgb(113.75601821730643, 155.1665582303188, 201.32400780741705)",
             "rgb(152.0659420567186, 182.0332580657507, 217.74254659573654)",
             "rgb(59.23804967660453, 116.9331776952811, 177.95916414711624)",
             "rgb(109.33564238968196, 152.0665544031536, 199.42956102414942)"
            ],
            [
             "rgb(129.05935933254239, 165.89877147996478, 207.88258257108959)",
             "rgb(133.86283439856098, 169.26744230548434, 209.94121474224042)",
             "rgb(127.66252057101305, 164.9191702705806, 207.28393738757703)",
             "rgb(114.03008151861916, 155.35875846760302, 201.44146350797965)",
             "rgb(109.12346434995598, 151.91775421944965, 199.33862757855258)",
             "rgb(137.32693558880936, 171.6968119713728, 211.42582953806115)",
             "rgb(134.63787362700447, 169.8109763098473, 210.27337441157334)",
             "rgb(94.80586704428029, 141.8768418232615, 193.2025144475487)",
             "rgb(144.56161736002144, 176.7704849018332, 214.5264074400092)",
             "rgb(142.859772666386, 175.5769834283746, 213.79704542845116)",
             "rgb(148.12591373569597, 179.27012132113742, 216.053963029584)",
             "rgb(130.5062956867848, 166.91350606605687, 208.5026981514792)",
             "rgb(137.5847908454208, 171.87764552795744, 211.53633893375178)",
             "rgb(106.26790156531058, 149.91515174710094, 198.11481495656167)",
             "rgb(125.22394657277354, 163.20900149259444, 206.23883424547438)",
             "rgb(137.6967736997206, 171.95617895824563, 211.58433158559455)",
             "rgb(73.43924375215278, 126.89245665735389, 184.04539017949406)",
             "rgb(136.45170117493973, 171.0830112135941, 211.05072907497419)",
             "rgb(139.4310344827586, 173.17241379310343, 212.32758620689657)",
             "rgb(129.8933369053542, 166.48363886868995, 208.2400015308661)",
             "rgb(133.83631214359525, 169.24884228252134, 209.9298480615408)",
             "rgb(142.74336943625855, 175.49534999425924, 213.7471583298251)",
             "rgb(113.11064334647327, 154.7139576715527, 201.04741857705997)",
             "rgb(150.31547322897927, 180.80565655019328, 216.99234566956255)",
             "rgb(52.02694324313981, 111.87603811856556, 174.86868996134564)",
             "rgb(108.40294309005318, 151.4124535956217, 199.02983275287994)"
            ]
           ]
          },
          "values": [
           [
            73410,
            70571,
            72455,
            83760,
            85981,
            68275,
            70195,
            99031,
            63242,
            64208,
            60649,
            71299,
            68413,
            89551,
            74748,
            67718,
            109203,
            69261,
            66563,
            73171,
            70008,
            63897,
            84797,
            59272,
            118269,
            86827
           ],
           [
            74000,
            71000,
            77000,
            87000,
            87000,
            68000,
            70000,
            98000,
            63000,
            65000,
            61000,
            73000,
            69000,
            92000,
            79000,
            68000,
            110000,
            70000,
            67000,
            74000,
            71000,
            65000,
            85000,
            59000,
            122000,
            88000
           ],
           [
            74614,
            71354,
            75562,
            84814,
            88144,
            69003,
            70828,
            97861,
            64093,
            65248,
            61674,
            73632,
            68828,
            90082,
            77217,
            68752,
            112362,
            69597,
            67575,
            74048,
            71372,
            65327,
            85438,
            60188,
            126894,
            88633
           ]
          ]
         },
         "header": {
          "align": "center",
          "fill": {
           "color": "black"
          },
          "font": {
           "color": "white",
           "size": 10
          },
          "line": {
           "color": "white"
          },
          "values": [
           "Taxable income per capita [2016]",
           "Taxable income per capita [2017]",
           "Taxable income per capita [2018]"
          ]
         },
         "type": "table"
        }
       ],
       "layout": {
        "autosize": true,
        "template": {
         "data": {
          "bar": [
           {
            "error_x": {
             "color": "#2a3f5f"
            },
            "error_y": {
             "color": "#2a3f5f"
            },
            "marker": {
             "line": {
              "color": "#E5ECF6",
              "width": 0.5
             },
             "pattern": {
              "fillmode": "overlay",
              "size": 10,
              "solidity": 0.2
             }
            },
            "type": "bar"
           }
          ],
          "barpolar": [
           {
            "marker": {
             "line": {
              "color": "#E5ECF6",
              "width": 0.5
             },
             "pattern": {
              "fillmode": "overlay",
              "size": 10,
              "solidity": 0.2
             }
            },
            "type": "barpolar"
           }
          ],
          "carpet": [
           {
            "aaxis": {
             "endlinecolor": "#2a3f5f",
             "gridcolor": "white",
             "linecolor": "white",
             "minorgridcolor": "white",
             "startlinecolor": "#2a3f5f"
            },
            "baxis": {
             "endlinecolor": "#2a3f5f",
             "gridcolor": "white",
             "linecolor": "white",
             "minorgridcolor": "white",
             "startlinecolor": "#2a3f5f"
            },
            "type": "carpet"
           }
          ],
          "choropleth": [
           {
            "colorbar": {
             "outlinewidth": 0,
             "ticks": ""
            },
            "type": "choropleth"
           }
          ],
          "contour": [
           {
            "colorbar": {
             "outlinewidth": 0,
             "ticks": ""
            },
            "colorscale": [
             [
              0,
              "#0d0887"
             ],
             [
              0.1111111111111111,
              "#46039f"
             ],
             [
              0.2222222222222222,
              "#7201a8"
             ],
             [
              0.3333333333333333,
              "#9c179e"
             ],
             [
              0.4444444444444444,
              "#bd3786"
             ],
             [
              0.5555555555555556,
              "#d8576b"
             ],
             [
              0.6666666666666666,
              "#ed7953"
             ],
             [
              0.7777777777777778,
              "#fb9f3a"
             ],
             [
              0.8888888888888888,
              "#fdca26"
             ],
             [
              1,
              "#f0f921"
             ]
            ],
            "type": "contour"
           }
          ],
          "contourcarpet": [
           {
            "colorbar": {
             "outlinewidth": 0,
             "ticks": ""
            },
            "type": "contourcarpet"
           }
          ],
          "heatmap": [
           {
            "colorbar": {
             "outlinewidth": 0,
             "ticks": ""
            },
            "colorscale": [
             [
              0,
              "#0d0887"
             ],
             [
              0.1111111111111111,
              "#46039f"
             ],
             [
              0.2222222222222222,
              "#7201a8"
             ],
             [
              0.3333333333333333,
              "#9c179e"
             ],
             [
              0.4444444444444444,
              "#bd3786"
             ],
             [
              0.5555555555555556,
              "#d8576b"
             ],
             [
              0.6666666666666666,
              "#ed7953"
             ],
             [
              0.7777777777777778,
              "#fb9f3a"
             ],
             [
              0.8888888888888888,
              "#fdca26"
             ],
             [
              1,
              "#f0f921"
             ]
            ],
            "type": "heatmap"
           }
          ],
          "heatmapgl": [
           {
            "colorbar": {
             "outlinewidth": 0,
             "ticks": ""
            },
            "colorscale": [
             [
              0,
              "#0d0887"
             ],
             [
              0.1111111111111111,
              "#46039f"
             ],
             [
              0.2222222222222222,
              "#7201a8"
             ],
             [
              0.3333333333333333,
              "#9c179e"
             ],
             [
              0.4444444444444444,
              "#bd3786"
             ],
             [
              0.5555555555555556,
              "#d8576b"
             ],
             [
              0.6666666666666666,
              "#ed7953"
             ],
             [
              0.7777777777777778,
              "#fb9f3a"
             ],
             [
              0.8888888888888888,
              "#fdca26"
             ],
             [
              1,
              "#f0f921"
             ]
            ],
            "type": "heatmapgl"
           }
          ],
          "histogram": [
           {
            "marker": {
             "pattern": {
              "fillmode": "overlay",
              "size": 10,
              "solidity": 0.2
             }
            },
            "type": "histogram"
           }
          ],
          "histogram2d": [
           {
            "colorbar": {
             "outlinewidth": 0,
             "ticks": ""
            },
            "colorscale": [
             [
              0,
              "#0d0887"
             ],
             [
              0.1111111111111111,
              "#46039f"
             ],
             [
              0.2222222222222222,
              "#7201a8"
             ],
             [
              0.3333333333333333,
              "#9c179e"
             ],
             [
              0.4444444444444444,
              "#bd3786"
             ],
             [
              0.5555555555555556,
              "#d8576b"
             ],
             [
              0.6666666666666666,
              "#ed7953"
             ],
             [
              0.7777777777777778,
              "#fb9f3a"
             ],
             [
              0.8888888888888888,
              "#fdca26"
             ],
             [
              1,
              "#f0f921"
             ]
            ],
            "type": "histogram2d"
           }
          ],
          "histogram2dcontour": [
           {
            "colorbar": {
             "outlinewidth": 0,
             "ticks": ""
            },
            "colorscale": [
             [
              0,
              "#0d0887"
             ],
             [
              0.1111111111111111,
              "#46039f"
             ],
             [
              0.2222222222222222,
              "#7201a8"
             ],
             [
              0.3333333333333333,
              "#9c179e"
             ],
             [
              0.4444444444444444,
              "#bd3786"
             ],
             [
              0.5555555555555556,
              "#d8576b"
             ],
             [
              0.6666666666666666,
              "#ed7953"
             ],
             [
              0.7777777777777778,
              "#fb9f3a"
             ],
             [
              0.8888888888888888,
              "#fdca26"
             ],
             [
              1,
              "#f0f921"
             ]
            ],
            "type": "histogram2dcontour"
           }
          ],
          "mesh3d": [
           {
            "colorbar": {
             "outlinewidth": 0,
             "ticks": ""
            },
            "type": "mesh3d"
           }
          ],
          "parcoords": [
           {
            "line": {
             "colorbar": {
              "outlinewidth": 0,
              "ticks": ""
             }
            },
            "type": "parcoords"
           }
          ],
          "pie": [
           {
            "automargin": true,
            "type": "pie"
           }
          ],
          "scatter": [
           {
            "marker": {
             "colorbar": {
              "outlinewidth": 0,
              "ticks": ""
             }
            },
            "type": "scatter"
           }
          ],
          "scatter3d": [
           {
            "line": {
             "colorbar": {
              "outlinewidth": 0,
              "ticks": ""
             }
            },
            "marker": {
             "colorbar": {
              "outlinewidth": 0,
              "ticks": ""
             }
            },
            "type": "scatter3d"
           }
          ],
          "scattercarpet": [
           {
            "marker": {
             "colorbar": {
              "outlinewidth": 0,
              "ticks": ""
             }
            },
            "type": "scattercarpet"
           }
          ],
          "scattergeo": [
           {
            "marker": {
             "colorbar": {
              "outlinewidth": 0,
              "ticks": ""
             }
            },
            "type": "scattergeo"
           }
          ],
          "scattergl": [
           {
            "marker": {
             "colorbar": {
              "outlinewidth": 0,
              "ticks": ""
             }
            },
            "type": "scattergl"
           }
          ],
          "scattermapbox": [
           {
            "marker": {
             "colorbar": {
              "outlinewidth": 0,
              "ticks": ""
             }
            },
            "type": "scattermapbox"
           }
          ],
          "scatterpolar": [
           {
            "marker": {
             "colorbar": {
              "outlinewidth": 0,
              "ticks": ""
             }
            },
            "type": "scatterpolar"
           }
          ],
          "scatterpolargl": [
           {
            "marker": {
             "colorbar": {
              "outlinewidth": 0,
              "ticks": ""
             }
            },
            "type": "scatterpolargl"
           }
          ],
          "scatterternary": [
           {
            "marker": {
             "colorbar": {
              "outlinewidth": 0,
              "ticks": ""
             }
            },
            "type": "scatterternary"
           }
          ],
          "surface": [
           {
            "colorbar": {
             "outlinewidth": 0,
             "ticks": ""
            },
            "colorscale": [
             [
              0,
              "#0d0887"
             ],
             [
              0.1111111111111111,
              "#46039f"
             ],
             [
              0.2222222222222222,
              "#7201a8"
             ],
             [
              0.3333333333333333,
              "#9c179e"
             ],
             [
              0.4444444444444444,
              "#bd3786"
             ],
             [
              0.5555555555555556,
              "#d8576b"
             ],
             [
              0.6666666666666666,
              "#ed7953"
             ],
             [
              0.7777777777777778,
              "#fb9f3a"
             ],
             [
              0.8888888888888888,
              "#fdca26"
             ],
             [
              1,
              "#f0f921"
             ]
            ],
            "type": "surface"
           }
          ],
          "table": [
           {
            "cells": {
             "fill": {
              "color": "#EBF0F8"
             },
             "line": {
              "color": "white"
             }
            },
            "header": {
             "fill": {
              "color": "#C8D4E3"
             },
             "line": {
              "color": "white"
             }
            },
            "type": "table"
           }
          ]
         },
         "layout": {
          "annotationdefaults": {
           "arrowcolor": "#2a3f5f",
           "arrowhead": 0,
           "arrowwidth": 1
          },
          "autotypenumbers": "strict",
          "coloraxis": {
           "colorbar": {
            "outlinewidth": 0,
            "ticks": ""
           }
          },
          "colorscale": {
           "diverging": [
            [
             0,
             "#8e0152"
            ],
            [
             0.1,
             "#c51b7d"
            ],
            [
             0.2,
             "#de77ae"
            ],
            [
             0.3,
             "#f1b6da"
            ],
            [
             0.4,
             "#fde0ef"
            ],
            [
             0.5,
             "#f7f7f7"
            ],
            [
             0.6,
             "#e6f5d0"
            ],
            [
             0.7,
             "#b8e186"
            ],
            [
             0.8,
             "#7fbc41"
            ],
            [
             0.9,
             "#4d9221"
            ],
            [
             1,
             "#276419"
            ]
           ],
           "sequential": [
            [
             0,
             "#0d0887"
            ],
            [
             0.1111111111111111,
             "#46039f"
            ],
            [
             0.2222222222222222,
             "#7201a8"
            ],
            [
             0.3333333333333333,
             "#9c179e"
            ],
            [
             0.4444444444444444,
             "#bd3786"
            ],
            [
             0.5555555555555556,
             "#d8576b"
            ],
            [
             0.6666666666666666,
             "#ed7953"
            ],
            [
             0.7777777777777778,
             "#fb9f3a"
            ],
            [
             0.8888888888888888,
             "#fdca26"
            ],
            [
             1,
             "#f0f921"
            ]
           ],
           "sequentialminus": [
            [
             0,
             "#0d0887"
            ],
            [
             0.1111111111111111,
             "#46039f"
            ],
            [
             0.2222222222222222,
             "#7201a8"
            ],
            [
             0.3333333333333333,
             "#9c179e"
            ],
            [
             0.4444444444444444,
             "#bd3786"
            ],
            [
             0.5555555555555556,
             "#d8576b"
            ],
            [
             0.6666666666666666,
             "#ed7953"
            ],
            [
             0.7777777777777778,
             "#fb9f3a"
            ],
            [
             0.8888888888888888,
             "#fdca26"
            ],
            [
             1,
             "#f0f921"
            ]
           ]
          },
          "colorway": [
           "#636efa",
           "#EF553B",
           "#00cc96",
           "#ab63fa",
           "#FFA15A",
           "#19d3f3",
           "#FF6692",
           "#B6E880",
           "#FF97FF",
           "#FECB52"
          ],
          "font": {
           "color": "#2a3f5f"
          },
          "geo": {
           "bgcolor": "white",
           "lakecolor": "white",
           "landcolor": "#E5ECF6",
           "showlakes": true,
           "showland": true,
           "subunitcolor": "white"
          },
          "hoverlabel": {
           "align": "left"
          },
          "hovermode": "closest",
          "mapbox": {
           "style": "light"
          },
          "paper_bgcolor": "white",
          "plot_bgcolor": "#E5ECF6",
          "polar": {
           "angularaxis": {
            "gridcolor": "white",
            "linecolor": "white",
            "ticks": ""
           },
           "bgcolor": "#E5ECF6",
           "radialaxis": {
            "gridcolor": "white",
            "linecolor": "white",
            "ticks": ""
           }
          },
          "scene": {
           "xaxis": {
            "backgroundcolor": "#E5ECF6",
            "gridcolor": "white",
            "gridwidth": 2,
            "linecolor": "white",
            "showbackground": true,
            "ticks": "",
            "zerolinecolor": "white"
           },
           "yaxis": {
            "backgroundcolor": "#E5ECF6",
            "gridcolor": "white",
            "gridwidth": 2,
            "linecolor": "white",
            "showbackground": true,
            "ticks": "",
            "zerolinecolor": "white"
           },
           "zaxis": {
            "backgroundcolor": "#E5ECF6",
            "gridcolor": "white",
            "gridwidth": 2,
            "linecolor": "white",
            "showbackground": true,
            "ticks": "",
            "zerolinecolor": "white"
           }
          },
          "shapedefaults": {
           "line": {
            "color": "#2a3f5f"
           }
          },
          "ternary": {
           "aaxis": {
            "gridcolor": "white",
            "linecolor": "white",
            "ticks": ""
           },
           "baxis": {
            "gridcolor": "white",
            "linecolor": "white",
            "ticks": ""
           },
           "bgcolor": "#E5ECF6",
           "caxis": {
            "gridcolor": "white",
            "linecolor": "white",
            "ticks": ""
           }
          },
          "title": {
           "x": 0.05
          },
          "xaxis": {
           "automargin": true,
           "gridcolor": "white",
           "linecolor": "white",
           "ticks": "",
           "title": {
            "standoff": 15
           },
           "zerolinecolor": "white",
           "zerolinewidth": 2
          },
          "yaxis": {
           "automargin": true,
           "gridcolor": "white",
           "linecolor": "white",
           "ticks": "",
           "title": {
            "standoff": 15
           },
           "zerolinecolor": "white",
           "zerolinewidth": 2
          }
         }
        }
       }
      },
      "image/png": "[encoded data removed]",
      "text/html": [
       "<div>                            <div id=\"356c0b4b-3674-4e5c-bed1-c089310de2cb\" class=\"plotly-graph-div\" style=\"height:525px; width:100%;\"></div>            <script type=\"text/javascript\">                require([\"plotly\"], function(Plotly) {                    window.PLOTLYENV=window.PLOTLYENV || {};                                    if (document.getElementById(\"356c0b4b-3674-4e5c-bed1-c089310de2cb\")) {                    Plotly.newPlot(                        \"356c0b4b-3674-4e5c-bed1-c089310de2cb\",                        [{\"cells\":{\"fill\":{\"color\":[[\"rgb(130.83340349802899, 167.1429063492671, 208.642887213441)\",\"rgb(135.01655248957098, 170.07654330437444, 210.43566535267328)\",\"rgb(132.2405564698228, 168.12974090091467, 209.2459527727812)\",\"rgb(115.58310689272456, 156.44789314554708, 202.10704581116767)\",\"rgb(112.31055532167323, 154.15285697883576, 200.70452370928854)\",\"rgb(138.39961345631292, 172.4490795667649, 211.88554862413412)\",\"rgb(135.57057292663325, 170.46507711737917, 210.67310268284282)\",\"rgb(93.08192047150675, 140.66784033066705, 192.46368020207433)\",\"rgb(145.81553063645757, 177.64985265413907, 215.0637988441961)\",\"rgb(144.3921696199625, 176.65165142179188, 214.45378697998393)\",\"rgb(149.63620881013435, 180.32928929541887, 216.70123234720043)\",\"rgb(133.94387462206743, 169.32427570898236, 209.97594626660032)\",\"rgb(138.19627616824218, 172.3064793907153, 211.79840407210378)\",\"rgb(107.0503080868001, 150.46385242450916, 198.45013203720004)\",\"rgb(128.8619158789085, 165.7603046423514, 207.79796394810364)\",\"rgb(139.22032990164183, 173.02464694400857, 212.2372842435608)\",\"rgb(78.09389949864135, 130.15676068735888, 186.04024264227488)\",\"rgb(136.94678326763366, 171.4302116422366, 211.26290711470014)\",\"rgb(140.92217459527728, 174.21814841746718, 212.96664625511883)\",\"rgb(131.18556010562975, 167.38987332083127, 208.79381147384134)\",\"rgb(135.84610968655517, 170.65831068927247, 210.7911898656665)\",\"rgb(144.8504152474262, 176.973018485208, 214.65017796318267)\",\"rgb(114.05513031497568, 155.37632515595698, 201.45219870641816)\",\"rgb(151.66516131501396, 181.7521910520877, 217.57078342072026)\",\"rgb(64.73552374756017, 120.78854912166557, 180.3152244632401)\",\"rgb(111.06400933828313, 153.2786558995752, 200.17028971640707)\"],[\"rgb(129.9640629185962, 166.5332389299246, 208.2703126793984)\",\"rgb(134.38443874622067, 169.63324275708982, 210.164759462666)\",\"rgb(125.54368709097172, 163.4332351027594, 206.37586589613073)\",\"rgb(110.8091009988901, 153.09988901220865, 200.0610432852386)\",\"rgb(110.8091009988901, 153.09988901220865, 200.0610432852386)\",\"rgb(138.80481457384514, 172.73324658425503, 212.05920624593364)\",\"rgb(135.85789735542883, 170.6665773661449, 210.7962417237552)\",\"rgb(94.60105629760037, 141.73320831260284, 193.1147384132573)\",\"rgb(146.17210761988594, 177.89991962953042, 215.2166175513797)\",\"rgb(143.22519040146963, 175.83325041142024, 213.9536530292013)\",\"rgb(149.11902483830227, 179.96658884764054, 216.4795820735581)\",\"rgb(131.43752152780434, 167.56657353897967, 208.90179494048758)\",\"rgb(137.331355964637, 171.69991197519997, 211.42772398484442)\",\"rgb(103.44180795284933, 147.9332159669333, 196.90363197979258)\",\"rgb(122.5967698725554, 161.36656588464922, 205.11290137395233)\",\"rgb(138.80481457384514, 172.73324658425503, 212.05920624593364)\",\"rgb(76.91955298710243, 129.33319300394197, 185.53695128018677)\",\"rgb(135.85789735542883, 170.6665773661449, 210.7962417237552)\",\"rgb(140.2782731830533, 173.76658119331012, 212.69068850702286)\",\"rgb(129.9640629185962, 166.5332389299246, 208.2703126793984)\",\"rgb(134.38443874622067, 169.63324275708982, 210.164759462666)\",\"rgb(143.22519040146963, 175.83325041142024, 213.9536530292013)\",\"rgb(113.75601821730643, 155.1665582303188, 201.32400780741705)\",\"rgb(152.0659420567186, 182.0332580657507, 217.74254659573654)\",\"rgb(59.23804967660453, 116.9331776952811, 177.95916414711624)\",\"rgb(109.33564238968196, 152.0665544031536, 199.42956102414942)\"],[\"rgb(129.05935933254239, 165.89877147996478, 207.88258257108959)\",\"rgb(133.86283439856098, 169.26744230548434, 209.94121474224042)\",\"rgb(127.66252057101305, 164.9191702705806, 207.28393738757703)\",\"rgb(114.03008151861916, 155.35875846760302, 201.44146350797965)\",\"rgb(109.12346434995598, 151.91775421944965, 199.33862757855258)\",\"rgb(137.32693558880936, 171.6968119713728, 211.42582953806115)\",\"rgb(134.63787362700447, 169.8109763098473, 210.27337441157334)\",\"rgb(94.80586704428029, 141.8768418232615, 193.2025144475487)\",\"rgb(144.56161736002144, 176.7704849018332, 214.5264074400092)\",\"rgb(142.859772666386, 175.5769834283746, 213.79704542845116)\",\"rgb(148.12591373569597, 179.27012132113742, 216.053963029584)\",\"rgb(130.5062956867848, 166.91350606605687, 208.5026981514792)\",\"rgb(137.5847908454208, 171.87764552795744, 211.53633893375178)\",\"rgb(106.26790156531058, 149.91515174710094, 198.11481495656167)\",\"rgb(125.22394657277354, 163.20900149259444, 206.23883424547438)\",\"rgb(137.6967736997206, 171.95617895824563, 211.58433158559455)\",\"rgb(73.43924375215278, 126.89245665735389, 184.04539017949406)\",\"rgb(136.45170117493973, 171.0830112135941, 211.05072907497419)\",\"rgb(139.4310344827586, 173.17241379310343, 212.32758620689657)\",\"rgb(129.8933369053542, 166.48363886868995, 208.2400015308661)\",\"rgb(133.83631214359525, 169.24884228252134, 209.9298480615408)\",\"rgb(142.74336943625855, 175.49534999425924, 213.7471583298251)\",\"rgb(113.11064334647327, 154.7139576715527, 201.04741857705997)\",\"rgb(150.31547322897927, 180.80565655019328, 216.99234566956255)\",\"rgb(52.02694324313981, 111.87603811856556, 174.86868996134564)\",\"rgb(108.40294309005318, 151.4124535956217, 199.02983275287994)\"]]},\"values\":[[73410,70571,72455,83760,85981,68275,70195,99031,63242,64208,60649,71299,68413,89551,74748,67718,109203,69261,66563,73171,70008,63897,84797,59272,118269,86827],[74000,71000,77000,87000,87000,68000,70000,98000,63000,65000,61000,73000,69000,92000,79000,68000,110000,70000,67000,74000,71000,65000,85000,59000,122000,88000],[74614,71354,75562,84814,88144,69003,70828,97861,64093,65248,61674,73632,68828,90082,77217,68752,112362,69597,67575,74048,71372,65327,85438,60188,126894,88633]]},\"header\":{\"align\":\"center\",\"fill\":{\"color\":\"black\"},\"font\":{\"color\":\"white\",\"size\":10},\"line\":{\"color\":\"white\"},\"values\":[\"Taxable income per capita [2016]\",\"Taxable income per capita [2017]\",\"Taxable income per capita [2018]\"]},\"type\":\"table\"}],                        {\"template\":{\"data\":{\"bar\":[{\"error_x\":{\"color\":\"#2a3f5f\"},\"error_y\":{\"color\":\"#2a3f5f\"},\"marker\":{\"line\":{\"color\":\"#E5ECF6\",\"width\":0.5},\"pattern\":{\"fillmode\":\"overlay\",\"size\":10,\"solidity\":0.2}},\"type\":\"bar\"}],\"barpolar\":[{\"marker\":{\"line\":{\"color\":\"#E5ECF6\",\"width\":0.5},\"pattern\":{\"fillmode\":\"overlay\",\"size\":10,\"solidity\":0.2}},\"type\":\"barpolar\"}],\"carpet\":[{\"aaxis\":{\"endlinecolor\":\"#2a3f5f\",\"gridcolor\":\"white\",\"linecolor\":\"white\",\"minorgridcolor\":\"white\",\"startlinecolor\":\"#2a3f5f\"},\"baxis\":{\"endlinecolor\":\"#2a3f5f\",\"gridcolor\":\"white\",\"linecolor\":\"white\",\"minorgridcolor\":\"white\",\"startlinecolor\":\"#2a3f5f\"},\"type\":\"carpet\"}],\"choropleth\":[{\"colorbar\":{\"outlinewidth\":0,\"ticks\":\"\"},\"type\":\"choropleth\"}],\"contour\":[{\"colorbar\":{\"outlinewidth\":0,\"ticks\":\"\"},\"colorscale\":[[0.0,\"#0d0887\"],[0.1111111111111111,\"#46039f\"],[0.2222222222222222,\"#7201a8\"],[0.3333333333333333,\"#9c179e\"],[0.4444444444444444,\"#bd3786\"],[0.5555555555555556,\"#d8576b\"],[0.6666666666666666,\"#ed7953\"],[0.7777777777777778,\"#fb9f3a\"],[0.8888888888888888,\"#fdca26\"],[1.0,\"#f0f921\"]],\"type\":\"contour\"}],\"contourcarpet\":[{\"colorbar\":{\"outlinewidth\":0,\"ticks\":\"\"},\"type\":\"contourcarpet\"}],\"heatmap\":[{\"colorbar\":{\"outlinewidth\":0,\"ticks\":\"\"},\"colorscale\":[[0.0,\"#0d0887\"],[0.1111111111111111,\"#46039f\"],[0.2222222222222222,\"#7201a8\"],[0.3333333333333333,\"#9c179e\"],[0.4444444444444444,\"#bd3786\"],[0.5555555555555556,\"#d8576b\"],[0.6666666666666666,\"#ed7953\"],[0.7777777777777778,\"#fb9f3a\"],[0.8888888888888888,\"#fdca26\"],[1.0,\"#f0f921\"]],\"type\":\"heatmap\"}],\"heatmapgl\":[{\"colorbar\":{\"outlinewidth\":0,\"ticks\":\"\"},\"colorscale\":[[0.0,\"#0d0887\"],[0.1111111111111111,\"#46039f\"],[0.2222222222222222,\"#7201a8\"],[0.3333333333333333,\"#9c179e\"],[0.4444444444444444,\"#bd3786\"],[0.5555555555555556,\"#d8576b\"],[0.6666666666666666,\"#ed7953\"],[0.7777777777777778,\"#fb9f3a\"],[0.8888888888888888,\"#fdca26\"],[1.0,\"#f0f921\"]],\"type\":\"heatmapgl\"}],\"histogram\":[{\"marker\":{\"pattern\":{\"fillmode\":\"overlay\",\"size\":10,\"solidity\":0.2}},\"type\":\"histogram\"}],\"histogram2d\":[{\"colorbar\":{\"outlinewidth\":0,\"ticks\":\"\"},\"colorscale\":[[0.0,\"#0d0887\"],[0.1111111111111111,\"#46039f\"],[0.2222222222222222,\"#7201a8\"],[0.3333333333333333,\"#9c179e\"],[0.4444444444444444,\"#bd3786\"],[0.5555555555555556,\"#d8576b\"],[0.6666666666666666,\"#ed7953\"],[0.7777777777777778,\"#fb9f3a\"],[0.8888888888888888,\"#fdca26\"],[1.0,\"#f0f921\"]],\"type\":\"histogram2d\"}],\"histogram2dcontour\":[{\"colorbar\":{\"outlinewidth\":0,\"ticks\":\"\"},\"colorscale\":[[0.0,\"#0d0887\"],[0.1111111111111111,\"#46039f\"],[0.2222222222222222,\"#7201a8\"],[0.3333333333333333,\"#9c179e\"],[0.4444444444444444,\"#bd3786\"],[0.5555555555555556,\"#d8576b\"],[0.6666666666666666,\"#ed7953\"],[0.7777777777777778,\"#fb9f3a\"],[0.8888888888888888,\"#fdca26\"],[1.0,\"#f0f921\"]],\"type\":\"histogram2dcontour\"}],\"mesh3d\":[{\"colorbar\":{\"outlinewidth\":0,\"ticks\":\"\"},\"type\":\"mesh3d\"}],\"parcoords\":[{\"line\":{\"colorbar\":{\"outlinewidth\":0,\"ticks\":\"\"}},\"type\":\"parcoords\"}],\"pie\":[{\"automargin\":true,\"type\":\"pie\"}],\"scatter\":[{\"marker\":{\"colorbar\":{\"outlinewidth\":0,\"ticks\":\"\"}},\"type\":\"scatter\"}],\"scatter3d\":[{\"line\":{\"colorbar\":{\"outlinewidth\":0,\"ticks\":\"\"}},\"marker\":{\"colorbar\":{\"outlinewidth\":0,\"ticks\":\"\"}},\"type\":\"scatter3d\"}],\"scattercarpet\":[{\"marker\":{\"colorbar\":{\"outlinewidth\":0,\"ticks\":\"\"}},\"type\":\"scattercarpet\"}],\"scattergeo\":[{\"marker\":{\"colorbar\":{\"outlinewidth\":0,\"ticks\":\"\"}},\"type\":\"scattergeo\"}],\"scattergl\":[{\"marker\":{\"colorbar\":{\"outlinewidth\":0,\"ticks\":\"\"}},\"type\":\"scattergl\"}],\"scattermapbox\":[{\"marker\":{\"colorbar\":{\"outlinewidth\":0,\"ticks\":\"\"}},\"type\":\"scattermapbox\"}],\"scatterpolar\":[{\"marker\":{\"colorbar\":{\"outlinewidth\":0,\"ticks\":\"\"}},\"type\":\"scatterpolar\"}],\"scatterpolargl\":[{\"marker\":{\"colorbar\":{\"outlinewidth\":0,\"ticks\":\"\"}},\"type\":\"scatterpolargl\"}],\"scatterternary\":[{\"marker\":{\"colorbar\":{\"outlinewidth\":0,\"ticks\":\"\"}},\"type\":\"scatterternary\"}],\"surface\":[{\"colorbar\":{\"outlinewidth\":0,\"ticks\":\"\"},\"colorscale\":[[0.0,\"#0d0887\"],[0.1111111111111111,\"#46039f\"],[0.2222222222222222,\"#7201a8\"],[0.3333333333333333,\"#9c179e\"],[0.4444444444444444,\"#bd3786\"],[0.5555555555555556,\"#d8576b\"],[0.6666666666666666,\"#ed7953\"],[0.7777777777777778,\"#fb9f3a\"],[0.8888888888888888,\"#fdca26\"],[1.0,\"#f0f921\"]],\"type\":\"surface\"}],\"table\":[{\"cells\":{\"fill\":{\"color\":\"#EBF0F8\"},\"line\":{\"color\":\"white\"}},\"header\":{\"fill\":{\"color\":\"#C8D4E3\"},\"line\":{\"color\":\"white\"}},\"type\":\"table\"}]},\"layout\":{\"annotationdefaults\":{\"arrowcolor\":\"#2a3f5f\",\"arrowhead\":0,\"arrowwidth\":1},\"autotypenumbers\":\"strict\",\"coloraxis\":{\"colorbar\":{\"outlinewidth\":0,\"ticks\":\"\"}},\"colorscale\":{\"diverging\":[[0,\"#8e0152\"],[0.1,\"#c51b7d\"],[0.2,\"#de77ae\"],[0.3,\"#f1b6da\"],[0.4,\"#fde0ef\"],[0.5,\"#f7f7f7\"],[0.6,\"#e6f5d0\"],[0.7,\"#b8e186\"],[0.8,\"#7fbc41\"],[0.9,\"#4d9221\"],[1,\"#276419\"]],\"sequential\":[[0.0,\"#0d0887\"],[0.1111111111111111,\"#46039f\"],[0.2222222222222222,\"#7201a8\"],[0.3333333333333333,\"#9c179e\"],[0.4444444444444444,\"#bd3786\"],[0.5555555555555556,\"#d8576b\"],[0.6666666666666666,\"#ed7953\"],[0.7777777777777778,\"#fb9f3a\"],[0.8888888888888888,\"#fdca26\"],[1.0,\"#f0f921\"]],\"sequentialminus\":[[0.0,\"#0d0887\"],[0.1111111111111111,\"#46039f\"],[0.2222222222222222,\"#7201a8\"],[0.3333333333333333,\"#9c179e\"],[0.4444444444444444,\"#bd3786\"],[0.5555555555555556,\"#d8576b\"],[0.6666666666666666,\"#ed7953\"],[0.7777777777777778,\"#fb9f3a\"],[0.8888888888888888,\"#fdca26\"],[1.0,\"#f0f921\"]]},\"colorway\":[\"#636efa\",\"#EF553B\",\"#00cc96\",\"#ab63fa\",\"#FFA15A\",\"#19d3f3\",\"#FF6692\",\"#B6E880\",\"#FF97FF\",\"#FECB52\"],\"font\":{\"color\":\"#2a3f5f\"},\"geo\":{\"bgcolor\":\"white\",\"lakecolor\":\"white\",\"landcolor\":\"#E5ECF6\",\"showlakes\":true,\"showland\":true,\"subunitcolor\":\"white\"},\"hoverlabel\":{\"align\":\"left\"},\"hovermode\":\"closest\",\"mapbox\":{\"style\":\"light\"},\"paper_bgcolor\":\"white\",\"plot_bgcolor\":\"#E5ECF6\",\"polar\":{\"angularaxis\":{\"gridcolor\":\"white\",\"linecolor\":\"white\",\"ticks\":\"\"},\"bgcolor\":\"#E5ECF6\",\"radialaxis\":{\"gridcolor\":\"white\",\"linecolor\":\"white\",\"ticks\":\"\"}},\"scene\":{\"xaxis\":{\"backgroundcolor\":\"#E5ECF6\",\"gridcolor\":\"white\",\"gridwidth\":2,\"linecolor\":\"white\",\"showbackground\":true,\"ticks\":\"\",\"zerolinecolor\":\"white\"},\"yaxis\":{\"backgroundcolor\":\"#E5ECF6\",\"gridcolor\":\"white\",\"gridwidth\":2,\"linecolor\":\"white\",\"showbackground\":true,\"ticks\":\"\",\"zerolinecolor\":\"white\"},\"zaxis\":{\"backgroundcolor\":\"#E5ECF6\",\"gridcolor\":\"white\",\"gridwidth\":2,\"linecolor\":\"white\",\"showbackground\":true,\"ticks\":\"\",\"zerolinecolor\":\"white\"}},\"shapedefaults\":{\"line\":{\"color\":\"#2a3f5f\"}},\"ternary\":{\"aaxis\":{\"gridcolor\":\"white\",\"linecolor\":\"white\",\"ticks\":\"\"},\"baxis\":{\"gridcolor\":\"white\",\"linecolor\":\"white\",\"ticks\":\"\"},\"bgcolor\":\"#E5ECF6\",\"caxis\":{\"gridcolor\":\"white\",\"linecolor\":\"white\",\"ticks\":\"\"}},\"title\":{\"x\":0.05},\"xaxis\":{\"automargin\":true,\"gridcolor\":\"white\",\"linecolor\":\"white\",\"ticks\":\"\",\"title\":{\"standoff\":15},\"zerolinecolor\":\"white\",\"zerolinewidth\":2},\"yaxis\":{\"automargin\":true,\"gridcolor\":\"white\",\"linecolor\":\"white\",\"ticks\":\"\",\"title\":{\"standoff\":15},\"zerolinecolor\":\"white\",\"zerolinewidth\":2}}}},                        {\"responsive\": true}                    ).then(function(){\n",
       "                            \n",
       "var gd = document.getElementById('356c0b4b-3674-4e5c-bed1-c089310de2cb');\n",
       "var x = new MutationObserver(function (mutations, observer) {{\n",
       "        var display = window.getComputedStyle(gd).display;\n",
       "        if (!display || display === 'none') {{\n",
       "            console.log([gd, 'removed!']);\n",
       "            Plotly.purge(gd);\n",
       "            observer.disconnect();\n",
       "        }}\n",
       "}});\n",
       "\n",
       "// Listen for the removal of the full notebook cells\n",
       "var notebookContainer = gd.closest('#notebook-container');\n",
       "if (notebookContainer) {{\n",
       "    x.observe(notebookContainer, {childList: true});\n",
       "}}\n",
       "\n",
       "// Listen for the clearing of the current output cell\n",
       "var outputEl = gd.closest('.output');\n",
       "if (outputEl) {{\n",
       "    x.observe(outputEl, {childList: true});\n",
       "}}\n",
       "\n",
       "                        })                };                });            </script>        </div>"
      ]
     },
     "metadata": {},
     "output_type": "display_data"
    }
   ],
   "source": [
    "colors = np.array(n_colors('rgb(239,243,255)', 'rgb(8, 81, 156)', max(df.taxable_income_per_capita), colortype='rgb'))\n",
    "\n",
    "fig = go.Figure(data=[go.Table(\n",
    "    header = dict(\n",
    "        values=['Taxable income per capita [2016]','Taxable income per capita [2017]','Taxable income per capita [2018]'],\n",
    "        line_color='white',fill_color='black',\n",
    "        align='center',font=dict(color='white',size=10)\n",
    "    ),\n",
    "    cells=dict(\n",
    "        values= [ tax_2016,tax_2017, tax_2018\n",
    "                ],\n",
    "        fill_color = [colors[tax_2016], colors[tax_2017], colors[tax_2018]]\n",
    "    )\n",
    ")\n",
    "                     ])\n",
    "\n",
    "fig.show()"
   ]
  },
  {
   "cell_type": "code",
   "execution_count": 71,
   "id": "3662a83f-6c6a-489c-b818-36a505062cb0",
   "metadata": {},
   "outputs": [],
   "source": [
    "tax_2010 = df[df.year==2010].sort_values(by='canton').taxable_income_per_capita.reset_index(drop=True)\n",
    "tax_2011 = df[df.year==2011].sort_values(by='canton').taxable_income_per_capita.reset_index(drop=True)\n",
    "tax_2012 = df[df.year==2012].sort_values(by='canton').taxable_income_per_capita.reset_index(drop=True)\n",
    "tax_2013 = df[df.year==2013].sort_values(by='canton').taxable_income_per_capita.reset_index(drop=True)\n",
    "tax_2014 = df[df.year==2014].sort_values(by='canton').taxable_income_per_capita.reset_index(drop=True)\n",
    "tax_2015 = df[df.year==2015].sort_values(by='canton').taxable_income_per_capita.reset_index(drop=True)"
   ]
  },
  {
   "cell_type": "code",
   "execution_count": 73,
   "id": "24d67dec-5170-42b4-bfda-c9a71956146b",
   "metadata": {},
   "outputs": [],
   "source": [
    "df_pivot = pd.concat([tax_2010,tax_2011,tax_2012,tax_2013,tax_2014,tax_2015,tax_2016,tax_2017,tax_2018]\n",
    "                     ,axis=1,\n",
    "                    ignore_index=True)"
   ]
  },
  {
   "cell_type": "code",
   "execution_count": 74,
   "id": "daec433b-e48d-4d84-b4be-65acb7a883da",
   "metadata": {},
   "outputs": [
    {
     "data": {
      "text/html": [
       "<div>\n",
       "<style scoped>\n",
       "    .dataframe tbody tr th:only-of-type {\n",
       "        vertical-align: middle;\n",
       "    }\n",
       "\n",
       "    .dataframe tbody tr th {\n",
       "        vertical-align: top;\n",
       "    }\n",
       "\n",
       "    .dataframe thead th {\n",
       "        text-align: right;\n",
       "    }\n",
       "</style>\n",
       "<table border=\"1\" class=\"dataframe\">\n",
       "  <thead>\n",
       "    <tr style=\"text-align: right;\">\n",
       "      <th></th>\n",
       "      <th>0</th>\n",
       "      <th>1</th>\n",
       "      <th>2</th>\n",
       "      <th>3</th>\n",
       "      <th>4</th>\n",
       "      <th>5</th>\n",
       "      <th>6</th>\n",
       "      <th>7</th>\n",
       "      <th>8</th>\n",
       "    </tr>\n",
       "  </thead>\n",
       "  <tbody>\n",
       "    <tr>\n",
       "      <th>0</th>\n",
       "      <td>68237</td>\n",
       "      <td>70915</td>\n",
       "      <td>71167</td>\n",
       "      <td>71290</td>\n",
       "      <td>71410</td>\n",
       "      <td>71978</td>\n",
       "      <td>73410</td>\n",
       "      <td>74000</td>\n",
       "      <td>74614</td>\n",
       "    </tr>\n",
       "    <tr>\n",
       "      <th>1</th>\n",
       "      <td>66366</td>\n",
       "      <td>68013</td>\n",
       "      <td>68003</td>\n",
       "      <td>68098</td>\n",
       "      <td>68428</td>\n",
       "      <td>69238</td>\n",
       "      <td>70571</td>\n",
       "      <td>71000</td>\n",
       "      <td>71354</td>\n",
       "    </tr>\n",
       "    <tr>\n",
       "      <th>2</th>\n",
       "      <td>65676</td>\n",
       "      <td>69299</td>\n",
       "      <td>69083</td>\n",
       "      <td>69817</td>\n",
       "      <td>70970</td>\n",
       "      <td>75234</td>\n",
       "      <td>72455</td>\n",
       "      <td>77000</td>\n",
       "      <td>75562</td>\n",
       "    </tr>\n",
       "    <tr>\n",
       "      <th>3</th>\n",
       "      <td>77184</td>\n",
       "      <td>79421</td>\n",
       "      <td>79812</td>\n",
       "      <td>80780</td>\n",
       "      <td>81945</td>\n",
       "      <td>82569</td>\n",
       "      <td>83760</td>\n",
       "      <td>87000</td>\n",
       "      <td>84814</td>\n",
       "    </tr>\n",
       "    <tr>\n",
       "      <th>4</th>\n",
       "      <td>75894</td>\n",
       "      <td>79435</td>\n",
       "      <td>80003</td>\n",
       "      <td>82054</td>\n",
       "      <td>83694</td>\n",
       "      <td>84591</td>\n",
       "      <td>85981</td>\n",
       "      <td>87000</td>\n",
       "      <td>88144</td>\n",
       "    </tr>\n",
       "    <tr>\n",
       "      <th>5</th>\n",
       "      <td>63054</td>\n",
       "      <td>65301</td>\n",
       "      <td>65398</td>\n",
       "      <td>65856</td>\n",
       "      <td>66297</td>\n",
       "      <td>67022</td>\n",
       "      <td>68275</td>\n",
       "      <td>68000</td>\n",
       "      <td>69003</td>\n",
       "    </tr>\n",
       "    <tr>\n",
       "      <th>6</th>\n",
       "      <td>64008</td>\n",
       "      <td>68507</td>\n",
       "      <td>68083</td>\n",
       "      <td>69674</td>\n",
       "      <td>68952</td>\n",
       "      <td>70005</td>\n",
       "      <td>70195</td>\n",
       "      <td>70000</td>\n",
       "      <td>70828</td>\n",
       "    </tr>\n",
       "    <tr>\n",
       "      <th>7</th>\n",
       "      <td>91483</td>\n",
       "      <td>95478</td>\n",
       "      <td>95123</td>\n",
       "      <td>96229</td>\n",
       "      <td>107701</td>\n",
       "      <td>99993</td>\n",
       "      <td>99031</td>\n",
       "      <td>98000</td>\n",
       "      <td>97861</td>\n",
       "    </tr>\n",
       "    <tr>\n",
       "      <th>8</th>\n",
       "      <td>59252</td>\n",
       "      <td>60977</td>\n",
       "      <td>60855</td>\n",
       "      <td>63518</td>\n",
       "      <td>62544</td>\n",
       "      <td>62596</td>\n",
       "      <td>63242</td>\n",
       "      <td>63000</td>\n",
       "      <td>64093</td>\n",
       "    </tr>\n",
       "    <tr>\n",
       "      <th>9</th>\n",
       "      <td>61019</td>\n",
       "      <td>62272</td>\n",
       "      <td>62039</td>\n",
       "      <td>62637</td>\n",
       "      <td>62870</td>\n",
       "      <td>63200</td>\n",
       "      <td>64208</td>\n",
       "      <td>65000</td>\n",
       "      <td>65248</td>\n",
       "    </tr>\n",
       "    <tr>\n",
       "      <th>10</th>\n",
       "      <td>56527</td>\n",
       "      <td>58654</td>\n",
       "      <td>59108</td>\n",
       "      <td>59338</td>\n",
       "      <td>59986</td>\n",
       "      <td>60630</td>\n",
       "      <td>60649</td>\n",
       "      <td>61000</td>\n",
       "      <td>61674</td>\n",
       "    </tr>\n",
       "    <tr>\n",
       "      <th>11</th>\n",
       "      <td>64842</td>\n",
       "      <td>68075</td>\n",
       "      <td>68558</td>\n",
       "      <td>69821</td>\n",
       "      <td>69231</td>\n",
       "      <td>70081</td>\n",
       "      <td>71299</td>\n",
       "      <td>73000</td>\n",
       "      <td>73632</td>\n",
       "    </tr>\n",
       "    <tr>\n",
       "      <th>12</th>\n",
       "      <td>63165</td>\n",
       "      <td>66108</td>\n",
       "      <td>66506</td>\n",
       "      <td>67033</td>\n",
       "      <td>67700</td>\n",
       "      <td>68524</td>\n",
       "      <td>68413</td>\n",
       "      <td>69000</td>\n",
       "      <td>68828</td>\n",
       "    </tr>\n",
       "    <tr>\n",
       "      <th>13</th>\n",
       "      <td>82781</td>\n",
       "      <td>90122</td>\n",
       "      <td>87139</td>\n",
       "      <td>91332</td>\n",
       "      <td>101580</td>\n",
       "      <td>87818</td>\n",
       "      <td>89551</td>\n",
       "      <td>92000</td>\n",
       "      <td>90082</td>\n",
       "    </tr>\n",
       "    <tr>\n",
       "      <th>14</th>\n",
       "      <td>66125</td>\n",
       "      <td>67765</td>\n",
       "      <td>69455</td>\n",
       "      <td>80586</td>\n",
       "      <td>71177</td>\n",
       "      <td>109144</td>\n",
       "      <td>74748</td>\n",
       "      <td>79000</td>\n",
       "      <td>77217</td>\n",
       "    </tr>\n",
       "    <tr>\n",
       "      <th>15</th>\n",
       "      <td>63241</td>\n",
       "      <td>65215</td>\n",
       "      <td>65362</td>\n",
       "      <td>66319</td>\n",
       "      <td>66558</td>\n",
       "      <td>66889</td>\n",
       "      <td>67718</td>\n",
       "      <td>68000</td>\n",
       "      <td>68752</td>\n",
       "    </tr>\n",
       "    <tr>\n",
       "      <th>16</th>\n",
       "      <td>104368</td>\n",
       "      <td>121412</td>\n",
       "      <td>106982</td>\n",
       "      <td>107285</td>\n",
       "      <td>121102</td>\n",
       "      <td>105947</td>\n",
       "      <td>109203</td>\n",
       "      <td>110000</td>\n",
       "      <td>112362</td>\n",
       "    </tr>\n",
       "    <tr>\n",
       "      <th>17</th>\n",
       "      <td>64059</td>\n",
       "      <td>66642</td>\n",
       "      <td>66513</td>\n",
       "      <td>66897</td>\n",
       "      <td>67695</td>\n",
       "      <td>67973</td>\n",
       "      <td>69261</td>\n",
       "      <td>70000</td>\n",
       "      <td>69597</td>\n",
       "    </tr>\n",
       "    <tr>\n",
       "      <th>18</th>\n",
       "      <td>61781</td>\n",
       "      <td>64556</td>\n",
       "      <td>64352</td>\n",
       "      <td>64688</td>\n",
       "      <td>65089</td>\n",
       "      <td>65338</td>\n",
       "      <td>66563</td>\n",
       "      <td>67000</td>\n",
       "      <td>67575</td>\n",
       "    </tr>\n",
       "    <tr>\n",
       "      <th>19</th>\n",
       "      <td>65721</td>\n",
       "      <td>68424</td>\n",
       "      <td>68930</td>\n",
       "      <td>69612</td>\n",
       "      <td>71574</td>\n",
       "      <td>72209</td>\n",
       "      <td>73171</td>\n",
       "      <td>74000</td>\n",
       "      <td>74048</td>\n",
       "    </tr>\n",
       "    <tr>\n",
       "      <th>20</th>\n",
       "      <td>63659</td>\n",
       "      <td>66445</td>\n",
       "      <td>66830</td>\n",
       "      <td>67955</td>\n",
       "      <td>67838</td>\n",
       "      <td>68915</td>\n",
       "      <td>70008</td>\n",
       "      <td>71000</td>\n",
       "      <td>71372</td>\n",
       "    </tr>\n",
       "    <tr>\n",
       "      <th>21</th>\n",
       "      <td>57154</td>\n",
       "      <td>58995</td>\n",
       "      <td>59657</td>\n",
       "      <td>60373</td>\n",
       "      <td>61939</td>\n",
       "      <td>62313</td>\n",
       "      <td>63897</td>\n",
       "      <td>65000</td>\n",
       "      <td>65327</td>\n",
       "    </tr>\n",
       "    <tr>\n",
       "      <th>22</th>\n",
       "      <td>77690</td>\n",
       "      <td>81208</td>\n",
       "      <td>82220</td>\n",
       "      <td>82620</td>\n",
       "      <td>82917</td>\n",
       "      <td>83464</td>\n",
       "      <td>84797</td>\n",
       "      <td>85000</td>\n",
       "      <td>85438</td>\n",
       "    </tr>\n",
       "    <tr>\n",
       "      <th>23</th>\n",
       "      <td>55305</td>\n",
       "      <td>56309</td>\n",
       "      <td>56583</td>\n",
       "      <td>57610</td>\n",
       "      <td>57182</td>\n",
       "      <td>57476</td>\n",
       "      <td>59272</td>\n",
       "      <td>59000</td>\n",
       "      <td>60188</td>\n",
       "    </tr>\n",
       "    <tr>\n",
       "      <th>24</th>\n",
       "      <td>111799</td>\n",
       "      <td>156775</td>\n",
       "      <td>117565</td>\n",
       "      <td>115117</td>\n",
       "      <td>113887</td>\n",
       "      <td>116808</td>\n",
       "      <td>118269</td>\n",
       "      <td>122000</td>\n",
       "      <td>126894</td>\n",
       "    </tr>\n",
       "    <tr>\n",
       "      <th>25</th>\n",
       "      <td>80502</td>\n",
       "      <td>86001</td>\n",
       "      <td>82908</td>\n",
       "      <td>83316</td>\n",
       "      <td>85064</td>\n",
       "      <td>85208</td>\n",
       "      <td>86827</td>\n",
       "      <td>88000</td>\n",
       "      <td>88633</td>\n",
       "    </tr>\n",
       "  </tbody>\n",
       "</table>\n",
       "</div>"
      ],
      "text/plain": [
       "         0       1       2       3       4       5       6       7       8\n",
       "0    68237   70915   71167   71290   71410   71978   73410   74000   74614\n",
       "1    66366   68013   68003   68098   68428   69238   70571   71000   71354\n",
       "2    65676   69299   69083   69817   70970   75234   72455   77000   75562\n",
       "3    77184   79421   79812   80780   81945   82569   83760   87000   84814\n",
       "4    75894   79435   80003   82054   83694   84591   85981   87000   88144\n",
       "5    63054   65301   65398   65856   66297   67022   68275   68000   69003\n",
       "6    64008   68507   68083   69674   68952   70005   70195   70000   70828\n",
       "7    91483   95478   95123   96229  107701   99993   99031   98000   97861\n",
       "8    59252   60977   60855   63518   62544   62596   63242   63000   64093\n",
       "9    61019   62272   62039   62637   62870   63200   64208   65000   65248\n",
       "10   56527   58654   59108   59338   59986   60630   60649   61000   61674\n",
       "11   64842   68075   68558   69821   69231   70081   71299   73000   73632\n",
       "12   63165   66108   66506   67033   67700   68524   68413   69000   68828\n",
       "13   82781   90122   87139   91332  101580   87818   89551   92000   90082\n",
       "14   66125   67765   69455   80586   71177  109144   74748   79000   77217\n",
       "15   63241   65215   65362   66319   66558   66889   67718   68000   68752\n",
       "16  104368  121412  106982  107285  121102  105947  109203  110000  112362\n",
       "17   64059   66642   66513   66897   67695   67973   69261   70000   69597\n",
       "18   61781   64556   64352   64688   65089   65338   66563   67000   67575\n",
       "19   65721   68424   68930   69612   71574   72209   73171   74000   74048\n",
       "20   63659   66445   66830   67955   67838   68915   70008   71000   71372\n",
       "21   57154   58995   59657   60373   61939   62313   63897   65000   65327\n",
       "22   77690   81208   82220   82620   82917   83464   84797   85000   85438\n",
       "23   55305   56309   56583   57610   57182   57476   59272   59000   60188\n",
       "24  111799  156775  117565  115117  113887  116808  118269  122000  126894\n",
       "25   80502   86001   82908   83316   85064   85208   86827   88000   88633"
      ]
     },
     "execution_count": 74,
     "metadata": {},
     "output_type": "execute_result"
    }
   ],
   "source": [
    "df_pivot"
   ]
  },
  {
   "cell_type": "code",
   "execution_count": 92,
   "id": "4333eacf-314d-48ae-9bb8-7117be09f77d",
   "metadata": {},
   "outputs": [
    {
     "data": {
      "application/vnd.plotly.v1+json": {
       "config": {
        "plotlyServerURL": "https://plot.ly"
       },
       "data": [
        {
         "coloraxis": "coloraxis",
         "hovertemplate": "x: %{x}<br>y: %{y}<br>color: %{z}<extra></extra>",
         "name": "0",
         "type": "heatmap",
         "x": [
          2010,
          2011,
          2012,
          2013,
          2014,
          2015,
          2016,
          2017,
          2018
         ],
         "xaxis": "x",
         "y": [
          "Aargau",
          "Appenzell Ausserrhoden",
          "Appenzell Innerrhoden",
          "Basel-Landschaft",
          "Basel-Stadt",
          "Bern",
          "Freiburg",
          "Genf",
          "Glarus",
          "Graubünden",
          "Jura",
          "Luzern",
          "Neuenburg",
          "Nidwalden",
          "Obwalden",
          "Schaffhausen",
          "Schwyz",
          "Solothurn",
          "St. Gallen",
          "Tessin",
          "Thurgau",
          "Uri",
          "Waadt",
          "Wallis",
          "Zug",
          "Zürich"
         ],
         "yaxis": "y",
         "z": [
          [
           68237,
           70915,
           71167,
           71290,
           71410,
           71978,
           73410,
           74000,
           74614
          ],
          [
           66366,
           68013,
           68003,
           68098,
           68428,
           69238,
           70571,
           71000,
           71354
          ],
          [
           65676,
           69299,
           69083,
           69817,
           70970,
           75234,
           72455,
           77000,
           75562
          ],
          [
           77184,
           79421,
           79812,
           80780,
           81945,
           82569,
           83760,
           87000,
           84814
          ],
          [
           75894,
           79435,
           80003,
           82054,
           83694,
           84591,
           85981,
           87000,
           88144
          ],
          [
           63054,
           65301,
           65398,
           65856,
           66297,
           67022,
           68275,
           68000,
           69003
          ],
          [
           64008,
           68507,
           68083,
           69674,
           68952,
           70005,
           70195,
           70000,
           70828
          ],
          [
           91483,
           95478,
           95123,
           96229,
           107701,
           99993,
           99031,
           98000,
           97861
          ],
          [
           59252,
           60977,
           60855,
           63518,
           62544,
           62596,
           63242,
           63000,
           64093
          ],
          [
           61019,
           62272,
           62039,
           62637,
           62870,
           63200,
           64208,
           65000,
           65248
          ],
          [
           56527,
           58654,
           59108,
           59338,
           59986,
           60630,
           60649,
           61000,
           61674
          ],
          [
           64842,
           68075,
           68558,
           69821,
           69231,
           70081,
           71299,
           73000,
           73632
          ],
          [
           63165,
           66108,
           66506,
           67033,
           67700,
           68524,
           68413,
           69000,
           68828
          ],
          [
           82781,
           90122,
           87139,
           91332,
           101580,
           87818,
           89551,
           92000,
           90082
          ],
          [
           66125,
           67765,
           69455,
           80586,
           71177,
           109144,
           74748,
           79000,
           77217
          ],
          [
           63241,
           65215,
           65362,
           66319,
           66558,
           66889,
           67718,
           68000,
           68752
          ],
          [
           104368,
           121412,
           106982,
           107285,
           121102,
           105947,
           109203,
           110000,
           112362
          ],
          [
           64059,
           66642,
           66513,
           66897,
           67695,
           67973,
           69261,
           70000,
           69597
          ],
          [
           61781,
           64556,
           64352,
           64688,
           65089,
           65338,
           66563,
           67000,
           67575
          ],
          [
           65721,
           68424,
           68930,
           69612,
           71574,
           72209,
           73171,
           74000,
           74048
          ],
          [
           63659,
           66445,
           66830,
           67955,
           67838,
           68915,
           70008,
           71000,
           71372
          ],
          [
           57154,
           58995,
           59657,
           60373,
           61939,
           62313,
           63897,
           65000,
           65327
          ],
          [
           77690,
           81208,
           82220,
           82620,
           82917,
           83464,
           84797,
           85000,
           85438
          ],
          [
           55305,
           56309,
           56583,
           57610,
           57182,
           57476,
           59272,
           59000,
           60188
          ],
          [
           111799,
           156775,
           117565,
           115117,
           113887,
           116808,
           118269,
           122000,
           126894
          ],
          [
           80502,
           86001,
           82908,
           83316,
           85064,
           85208,
           86827,
           88000,
           88633
          ]
         ]
        }
       ],
       "layout": {
        "coloraxis": {
         "colorscale": [
          [
           0,
           "#0d0887"
          ],
          [
           0.1111111111111111,
           "#46039f"
          ],
          [
           0.2222222222222222,
           "#7201a8"
          ],
          [
           0.3333333333333333,
           "#9c179e"
          ],
          [
           0.4444444444444444,
           "#bd3786"
          ],
          [
           0.5555555555555556,
           "#d8576b"
          ],
          [
           0.6666666666666666,
           "#ed7953"
          ],
          [
           0.7777777777777778,
           "#fb9f3a"
          ],
          [
           0.8888888888888888,
           "#fdca26"
          ],
          [
           1,
           "#f0f921"
          ]
         ]
        },
        "height": 800,
        "margin": {
         "t": 60
        },
        "paper_bgcolor": "rgba(0, 0, 0, 0)",
        "plot_bgcolor": "rgba(0, 0, 0, 0)",
        "template": {
         "data": {
          "bar": [
           {
            "error_x": {
             "color": "#2a3f5f"
            },
            "error_y": {
             "color": "#2a3f5f"
            },
            "marker": {
             "line": {
              "color": "#E5ECF6",
              "width": 0.5
             },
             "pattern": {
              "fillmode": "overlay",
              "size": 10,
              "solidity": 0.2
             }
            },
            "type": "bar"
           }
          ],
          "barpolar": [
           {
            "marker": {
             "line": {
              "color": "#E5ECF6",
              "width": 0.5
             },
             "pattern": {
              "fillmode": "overlay",
              "size": 10,
              "solidity": 0.2
             }
            },
            "type": "barpolar"
           }
          ],
          "carpet": [
           {
            "aaxis": {
             "endlinecolor": "#2a3f5f",
             "gridcolor": "white",
             "linecolor": "white",
             "minorgridcolor": "white",
             "startlinecolor": "#2a3f5f"
            },
            "baxis": {
             "endlinecolor": "#2a3f5f",
             "gridcolor": "white",
             "linecolor": "white",
             "minorgridcolor": "white",
             "startlinecolor": "#2a3f5f"
            },
            "type": "carpet"
           }
          ],
          "choropleth": [
           {
            "colorbar": {
             "outlinewidth": 0,
             "ticks": ""
            },
            "type": "choropleth"
           }
          ],
          "contour": [
           {
            "colorbar": {
             "outlinewidth": 0,
             "ticks": ""
            },
            "colorscale": [
             [
              0,
              "#0d0887"
             ],
             [
              0.1111111111111111,
              "#46039f"
             ],
             [
              0.2222222222222222,
              "#7201a8"
             ],
             [
              0.3333333333333333,
              "#9c179e"
             ],
             [
              0.4444444444444444,
              "#bd3786"
             ],
             [
              0.5555555555555556,
              "#d8576b"
             ],
             [
              0.6666666666666666,
              "#ed7953"
             ],
             [
              0.7777777777777778,
              "#fb9f3a"
             ],
             [
              0.8888888888888888,
              "#fdca26"
             ],
             [
              1,
              "#f0f921"
             ]
            ],
            "type": "contour"
           }
          ],
          "contourcarpet": [
           {
            "colorbar": {
             "outlinewidth": 0,
             "ticks": ""
            },
            "type": "contourcarpet"
           }
          ],
          "heatmap": [
           {
            "colorbar": {
             "outlinewidth": 0,
             "ticks": ""
            },
            "colorscale": [
             [
              0,
              "#0d0887"
             ],
             [
              0.1111111111111111,
              "#46039f"
             ],
             [
              0.2222222222222222,
              "#7201a8"
             ],
             [
              0.3333333333333333,
              "#9c179e"
             ],
             [
              0.4444444444444444,
              "#bd3786"
             ],
             [
              0.5555555555555556,
              "#d8576b"
             ],
             [
              0.6666666666666666,
              "#ed7953"
             ],
             [
              0.7777777777777778,
              "#fb9f3a"
             ],
             [
              0.8888888888888888,
              "#fdca26"
             ],
             [
              1,
              "#f0f921"
             ]
            ],
            "type": "heatmap"
           }
          ],
          "heatmapgl": [
           {
            "colorbar": {
             "outlinewidth": 0,
             "ticks": ""
            },
            "colorscale": [
             [
              0,
              "#0d0887"
             ],
             [
              0.1111111111111111,
              "#46039f"
             ],
             [
              0.2222222222222222,
              "#7201a8"
             ],
             [
              0.3333333333333333,
              "#9c179e"
             ],
             [
              0.4444444444444444,
              "#bd3786"
             ],
             [
              0.5555555555555556,
              "#d8576b"
             ],
             [
              0.6666666666666666,
              "#ed7953"
             ],
             [
              0.7777777777777778,
              "#fb9f3a"
             ],
             [
              0.8888888888888888,
              "#fdca26"
             ],
             [
              1,
              "#f0f921"
             ]
            ],
            "type": "heatmapgl"
           }
          ],
          "histogram": [
           {
            "marker": {
             "pattern": {
              "fillmode": "overlay",
              "size": 10,
              "solidity": 0.2
             }
            },
            "type": "histogram"
           }
          ],
          "histogram2d": [
           {
            "colorbar": {
             "outlinewidth": 0,
             "ticks": ""
            },
            "colorscale": [
             [
              0,
              "#0d0887"
             ],
             [
              0.1111111111111111,
              "#46039f"
             ],
             [
              0.2222222222222222,
              "#7201a8"
             ],
             [
              0.3333333333333333,
              "#9c179e"
             ],
             [
              0.4444444444444444,
              "#bd3786"
             ],
             [
              0.5555555555555556,
              "#d8576b"
             ],
             [
              0.6666666666666666,
              "#ed7953"
             ],
             [
              0.7777777777777778,
              "#fb9f3a"
             ],
             [
              0.8888888888888888,
              "#fdca26"
             ],
             [
              1,
              "#f0f921"
             ]
            ],
            "type": "histogram2d"
           }
          ],
          "histogram2dcontour": [
           {
            "colorbar": {
             "outlinewidth": 0,
             "ticks": ""
            },
            "colorscale": [
             [
              0,
              "#0d0887"
             ],
             [
              0.1111111111111111,
              "#46039f"
             ],
             [
              0.2222222222222222,
              "#7201a8"
             ],
             [
              0.3333333333333333,
              "#9c179e"
             ],
             [
              0.4444444444444444,
              "#bd3786"
             ],
             [
              0.5555555555555556,
              "#d8576b"
             ],
             [
              0.6666666666666666,
              "#ed7953"
             ],
             [
              0.7777777777777778,
              "#fb9f3a"
             ],
             [
              0.8888888888888888,
              "#fdca26"
             ],
             [
              1,
              "#f0f921"
             ]
            ],
            "type": "histogram2dcontour"
           }
          ],
          "mesh3d": [
           {
            "colorbar": {
             "outlinewidth": 0,
             "ticks": ""
            },
            "type": "mesh3d"
           }
          ],
          "parcoords": [
           {
            "line": {
             "colorbar": {
              "outlinewidth": 0,
              "ticks": ""
             }
            },
            "type": "parcoords"
           }
          ],
          "pie": [
           {
            "automargin": true,
            "type": "pie"
           }
          ],
          "scatter": [
           {
            "marker": {
             "colorbar": {
              "outlinewidth": 0,
              "ticks": ""
             }
            },
            "type": "scatter"
           }
          ],
          "scatter3d": [
           {
            "line": {
             "colorbar": {
              "outlinewidth": 0,
              "ticks": ""
             }
            },
            "marker": {
             "colorbar": {
              "outlinewidth": 0,
              "ticks": ""
             }
            },
            "type": "scatter3d"
           }
          ],
          "scattercarpet": [
           {
            "marker": {
             "colorbar": {
              "outlinewidth": 0,
              "ticks": ""
             }
            },
            "type": "scattercarpet"
           }
          ],
          "scattergeo": [
           {
            "marker": {
             "colorbar": {
              "outlinewidth": 0,
              "ticks": ""
             }
            },
            "type": "scattergeo"
           }
          ],
          "scattergl": [
           {
            "marker": {
             "colorbar": {
              "outlinewidth": 0,
              "ticks": ""
             }
            },
            "type": "scattergl"
           }
          ],
          "scattermapbox": [
           {
            "marker": {
             "colorbar": {
              "outlinewidth": 0,
              "ticks": ""
             }
            },
            "type": "scattermapbox"
           }
          ],
          "scatterpolar": [
           {
            "marker": {
             "colorbar": {
              "outlinewidth": 0,
              "ticks": ""
             }
            },
            "type": "scatterpolar"
           }
          ],
          "scatterpolargl": [
           {
            "marker": {
             "colorbar": {
              "outlinewidth": 0,
              "ticks": ""
             }
            },
            "type": "scatterpolargl"
           }
          ],
          "scatterternary": [
           {
            "marker": {
             "colorbar": {
              "outlinewidth": 0,
              "ticks": ""
             }
            },
            "type": "scatterternary"
           }
          ],
          "surface": [
           {
            "colorbar": {
             "outlinewidth": 0,
             "ticks": ""
            },
            "colorscale": [
             [
              0,
              "#0d0887"
             ],
             [
              0.1111111111111111,
              "#46039f"
             ],
             [
              0.2222222222222222,
              "#7201a8"
             ],
             [
              0.3333333333333333,
              "#9c179e"
             ],
             [
              0.4444444444444444,
              "#bd3786"
             ],
             [
              0.5555555555555556,
              "#d8576b"
             ],
             [
              0.6666666666666666,
              "#ed7953"
             ],
             [
              0.7777777777777778,
              "#fb9f3a"
             ],
             [
              0.8888888888888888,
              "#fdca26"
             ],
             [
              1,
              "#f0f921"
             ]
            ],
            "type": "surface"
           }
          ],
          "table": [
           {
            "cells": {
             "fill": {
              "color": "#EBF0F8"
             },
             "line": {
              "color": "white"
             }
            },
            "header": {
             "fill": {
              "color": "#C8D4E3"
             },
             "line": {
              "color": "white"
             }
            },
            "type": "table"
           }
          ]
         },
         "layout": {
          "annotationdefaults": {
           "arrowcolor": "#2a3f5f",
           "arrowhead": 0,
           "arrowwidth": 1
          },
          "autotypenumbers": "strict",
          "coloraxis": {
           "colorbar": {
            "outlinewidth": 0,
            "ticks": ""
           }
          },
          "colorscale": {
           "diverging": [
            [
             0,
             "#8e0152"
            ],
            [
             0.1,
             "#c51b7d"
            ],
            [
             0.2,
             "#de77ae"
            ],
            [
             0.3,
             "#f1b6da"
            ],
            [
             0.4,
             "#fde0ef"
            ],
            [
             0.5,
             "#f7f7f7"
            ],
            [
             0.6,
             "#e6f5d0"
            ],
            [
             0.7,
             "#b8e186"
            ],
            [
             0.8,
             "#7fbc41"
            ],
            [
             0.9,
             "#4d9221"
            ],
            [
             1,
             "#276419"
            ]
           ],
           "sequential": [
            [
             0,
             "#0d0887"
            ],
            [
             0.1111111111111111,
             "#46039f"
            ],
            [
             0.2222222222222222,
             "#7201a8"
            ],
            [
             0.3333333333333333,
             "#9c179e"
            ],
            [
             0.4444444444444444,
             "#bd3786"
            ],
            [
             0.5555555555555556,
             "#d8576b"
            ],
            [
             0.6666666666666666,
             "#ed7953"
            ],
            [
             0.7777777777777778,
             "#fb9f3a"
            ],
            [
             0.8888888888888888,
             "#fdca26"
            ],
            [
             1,
             "#f0f921"
            ]
           ],
           "sequentialminus": [
            [
             0,
             "#0d0887"
            ],
            [
             0.1111111111111111,
             "#46039f"
            ],
            [
             0.2222222222222222,
             "#7201a8"
            ],
            [
             0.3333333333333333,
             "#9c179e"
            ],
            [
             0.4444444444444444,
             "#bd3786"
            ],
            [
             0.5555555555555556,
             "#d8576b"
            ],
            [
             0.6666666666666666,
             "#ed7953"
            ],
            [
             0.7777777777777778,
             "#fb9f3a"
            ],
            [
             0.8888888888888888,
             "#fdca26"
            ],
            [
             1,
             "#f0f921"
            ]
           ]
          },
          "colorway": [
           "#636efa",
           "#EF553B",
           "#00cc96",
           "#ab63fa",
           "#FFA15A",
           "#19d3f3",
           "#FF6692",
           "#B6E880",
           "#FF97FF",
           "#FECB52"
          ],
          "font": {
           "color": "#2a3f5f"
          },
          "geo": {
           "bgcolor": "white",
           "lakecolor": "white",
           "landcolor": "#E5ECF6",
           "showlakes": true,
           "showland": true,
           "subunitcolor": "white"
          },
          "hoverlabel": {
           "align": "left"
          },
          "hovermode": "closest",
          "mapbox": {
           "style": "light"
          },
          "paper_bgcolor": "white",
          "plot_bgcolor": "#E5ECF6",
          "polar": {
           "angularaxis": {
            "gridcolor": "white",
            "linecolor": "white",
            "ticks": ""
           },
           "bgcolor": "#E5ECF6",
           "radialaxis": {
            "gridcolor": "white",
            "linecolor": "white",
            "ticks": ""
           }
          },
          "scene": {
           "xaxis": {
            "backgroundcolor": "#E5ECF6",
            "gridcolor": "white",
            "gridwidth": 2,
            "linecolor": "white",
            "showbackground": true,
            "ticks": "",
            "zerolinecolor": "white"
           },
           "yaxis": {
            "backgroundcolor": "#E5ECF6",
            "gridcolor": "white",
            "gridwidth": 2,
            "linecolor": "white",
            "showbackground": true,
            "ticks": "",
            "zerolinecolor": "white"
           },
           "zaxis": {
            "backgroundcolor": "#E5ECF6",
            "gridcolor": "white",
            "gridwidth": 2,
            "linecolor": "white",
            "showbackground": true,
            "ticks": "",
            "zerolinecolor": "white"
           }
          },
          "shapedefaults": {
           "line": {
            "color": "#2a3f5f"
           }
          },
          "ternary": {
           "aaxis": {
            "gridcolor": "white",
            "linecolor": "white",
            "ticks": ""
           },
           "baxis": {
            "gridcolor": "white",
            "linecolor": "white",
            "ticks": ""
           },
           "bgcolor": "#E5ECF6",
           "caxis": {
            "gridcolor": "white",
            "linecolor": "white",
            "ticks": ""
           }
          },
          "title": {
           "x": 0.05
          },
          "xaxis": {
           "automargin": true,
           "gridcolor": "white",
           "linecolor": "white",
           "ticks": "",
           "title": {
            "standoff": 15
           },
           "zerolinecolor": "white",
           "zerolinewidth": 2
          },
          "yaxis": {
           "automargin": true,
           "gridcolor": "white",
           "linecolor": "white",
           "ticks": "",
           "title": {
            "standoff": 15
           },
           "zerolinecolor": "white",
           "zerolinewidth": 2
          }
         }
        },
        "width": 800,
        "xaxis": {
         "anchor": "y",
         "autorange": true,
         "constrain": "domain",
         "domain": [
          0,
          1
         ],
         "range": [
          2009.5,
          2018.5
         ],
         "scaleanchor": "y",
         "showgrid": false,
         "title": {},
         "type": "linear"
        },
        "yaxis": {
         "anchor": "x",
         "autorange": true,
         "constrain": "domain",
         "domain": [
          0,
          1
         ],
         "range": [
          25.5,
          -0.5
         ],
         "showgrid": false,
         "title": {},
         "type": "category"
        }
       }
      },
      "image/png": "[encoded data removed]",
      "text/html": [
       "<div>                            <div id=\"f0c0190b-b1e8-44da-bffb-36ece3600a51\" class=\"plotly-graph-div\" style=\"height:800px; width:800px;\"></div>            <script type=\"text/javascript\">                require([\"plotly\"], function(Plotly) {                    window.PLOTLYENV=window.PLOTLYENV || {};                                    if (document.getElementById(\"f0c0190b-b1e8-44da-bffb-36ece3600a51\")) {                    Plotly.newPlot(                        \"f0c0190b-b1e8-44da-bffb-36ece3600a51\",                        [{\"coloraxis\":\"coloraxis\",\"name\":\"0\",\"x\":[2010,2011,2012,2013,2014,2015,2016,2017,2018],\"y\":[\"Aargau\",\"Appenzell Ausserrhoden\",\"Appenzell Innerrhoden\",\"Basel-Landschaft\",\"Basel-Stadt\",\"Bern\",\"Freiburg\",\"Genf\",\"Glarus\",\"Graub\\u00fcnden\",\"Jura\",\"Luzern\",\"Neuenburg\",\"Nidwalden\",\"Obwalden\",\"Schaffhausen\",\"Schwyz\",\"Solothurn\",\"St. Gallen\",\"Tessin\",\"Thurgau\",\"Uri\",\"Waadt\",\"Wallis\",\"Zug\",\"Z\\u00fcrich\"],\"z\":[[68237,70915,71167,71290,71410,71978,73410,74000,74614],[66366,68013,68003,68098,68428,69238,70571,71000,71354],[65676,69299,69083,69817,70970,75234,72455,77000,75562],[77184,79421,79812,80780,81945,82569,83760,87000,84814],[75894,79435,80003,82054,83694,84591,85981,87000,88144],[63054,65301,65398,65856,66297,67022,68275,68000,69003],[64008,68507,68083,69674,68952,70005,70195,70000,70828],[91483,95478,95123,96229,107701,99993,99031,98000,97861],[59252,60977,60855,63518,62544,62596,63242,63000,64093],[61019,62272,62039,62637,62870,63200,64208,65000,65248],[56527,58654,59108,59338,59986,60630,60649,61000,61674],[64842,68075,68558,69821,69231,70081,71299,73000,73632],[63165,66108,66506,67033,67700,68524,68413,69000,68828],[82781,90122,87139,91332,101580,87818,89551,92000,90082],[66125,67765,69455,80586,71177,109144,74748,79000,77217],[63241,65215,65362,66319,66558,66889,67718,68000,68752],[104368,121412,106982,107285,121102,105947,109203,110000,112362],[64059,66642,66513,66897,67695,67973,69261,70000,69597],[61781,64556,64352,64688,65089,65338,66563,67000,67575],[65721,68424,68930,69612,71574,72209,73171,74000,74048],[63659,66445,66830,67955,67838,68915,70008,71000,71372],[57154,58995,59657,60373,61939,62313,63897,65000,65327],[77690,81208,82220,82620,82917,83464,84797,85000,85438],[55305,56309,56583,57610,57182,57476,59272,59000,60188],[111799,156775,117565,115117,113887,116808,118269,122000,126894],[80502,86001,82908,83316,85064,85208,86827,88000,88633]],\"type\":\"heatmap\",\"xaxis\":\"x\",\"yaxis\":\"y\",\"hovertemplate\":\"x: %{x}<br>y: %{y}<br>color: %{z}<extra></extra>\"}],                        {\"template\":{\"data\":{\"bar\":[{\"error_x\":{\"color\":\"#2a3f5f\"},\"error_y\":{\"color\":\"#2a3f5f\"},\"marker\":{\"line\":{\"color\":\"#E5ECF6\",\"width\":0.5},\"pattern\":{\"fillmode\":\"overlay\",\"size\":10,\"solidity\":0.2}},\"type\":\"bar\"}],\"barpolar\":[{\"marker\":{\"line\":{\"color\":\"#E5ECF6\",\"width\":0.5},\"pattern\":{\"fillmode\":\"overlay\",\"size\":10,\"solidity\":0.2}},\"type\":\"barpolar\"}],\"carpet\":[{\"aaxis\":{\"endlinecolor\":\"#2a3f5f\",\"gridcolor\":\"white\",\"linecolor\":\"white\",\"minorgridcolor\":\"white\",\"startlinecolor\":\"#2a3f5f\"},\"baxis\":{\"endlinecolor\":\"#2a3f5f\",\"gridcolor\":\"white\",\"linecolor\":\"white\",\"minorgridcolor\":\"white\",\"startlinecolor\":\"#2a3f5f\"},\"type\":\"carpet\"}],\"choropleth\":[{\"colorbar\":{\"outlinewidth\":0,\"ticks\":\"\"},\"type\":\"choropleth\"}],\"contour\":[{\"colorbar\":{\"outlinewidth\":0,\"ticks\":\"\"},\"colorscale\":[[0.0,\"#0d0887\"],[0.1111111111111111,\"#46039f\"],[0.2222222222222222,\"#7201a8\"],[0.3333333333333333,\"#9c179e\"],[0.4444444444444444,\"#bd3786\"],[0.5555555555555556,\"#d8576b\"],[0.6666666666666666,\"#ed7953\"],[0.7777777777777778,\"#fb9f3a\"],[0.8888888888888888,\"#fdca26\"],[1.0,\"#f0f921\"]],\"type\":\"contour\"}],\"contourcarpet\":[{\"colorbar\":{\"outlinewidth\":0,\"ticks\":\"\"},\"type\":\"contourcarpet\"}],\"heatmap\":[{\"colorbar\":{\"outlinewidth\":0,\"ticks\":\"\"},\"colorscale\":[[0.0,\"#0d0887\"],[0.1111111111111111,\"#46039f\"],[0.2222222222222222,\"#7201a8\"],[0.3333333333333333,\"#9c179e\"],[0.4444444444444444,\"#bd3786\"],[0.5555555555555556,\"#d8576b\"],[0.6666666666666666,\"#ed7953\"],[0.7777777777777778,\"#fb9f3a\"],[0.8888888888888888,\"#fdca26\"],[1.0,\"#f0f921\"]],\"type\":\"heatmap\"}],\"heatmapgl\":[{\"colorbar\":{\"outlinewidth\":0,\"ticks\":\"\"},\"colorscale\":[[0.0,\"#0d0887\"],[0.1111111111111111,\"#46039f\"],[0.2222222222222222,\"#7201a8\"],[0.3333333333333333,\"#9c179e\"],[0.4444444444444444,\"#bd3786\"],[0.5555555555555556,\"#d8576b\"],[0.6666666666666666,\"#ed7953\"],[0.7777777777777778,\"#fb9f3a\"],[0.8888888888888888,\"#fdca26\"],[1.0,\"#f0f921\"]],\"type\":\"heatmapgl\"}],\"histogram\":[{\"marker\":{\"pattern\":{\"fillmode\":\"overlay\",\"size\":10,\"solidity\":0.2}},\"type\":\"histogram\"}],\"histogram2d\":[{\"colorbar\":{\"outlinewidth\":0,\"ticks\":\"\"},\"colorscale\":[[0.0,\"#0d0887\"],[0.1111111111111111,\"#46039f\"],[0.2222222222222222,\"#7201a8\"],[0.3333333333333333,\"#9c179e\"],[0.4444444444444444,\"#bd3786\"],[0.5555555555555556,\"#d8576b\"],[0.6666666666666666,\"#ed7953\"],[0.7777777777777778,\"#fb9f3a\"],[0.8888888888888888,\"#fdca26\"],[1.0,\"#f0f921\"]],\"type\":\"histogram2d\"}],\"histogram2dcontour\":[{\"colorbar\":{\"outlinewidth\":0,\"ticks\":\"\"},\"colorscale\":[[0.0,\"#0d0887\"],[0.1111111111111111,\"#46039f\"],[0.2222222222222222,\"#7201a8\"],[0.3333333333333333,\"#9c179e\"],[0.4444444444444444,\"#bd3786\"],[0.5555555555555556,\"#d8576b\"],[0.6666666666666666,\"#ed7953\"],[0.7777777777777778,\"#fb9f3a\"],[0.8888888888888888,\"#fdca26\"],[1.0,\"#f0f921\"]],\"type\":\"histogram2dcontour\"}],\"mesh3d\":[{\"colorbar\":{\"outlinewidth\":0,\"ticks\":\"\"},\"type\":\"mesh3d\"}],\"parcoords\":[{\"line\":{\"colorbar\":{\"outlinewidth\":0,\"ticks\":\"\"}},\"type\":\"parcoords\"}],\"pie\":[{\"automargin\":true,\"type\":\"pie\"}],\"scatter\":[{\"marker\":{\"colorbar\":{\"outlinewidth\":0,\"ticks\":\"\"}},\"type\":\"scatter\"}],\"scatter3d\":[{\"line\":{\"colorbar\":{\"outlinewidth\":0,\"ticks\":\"\"}},\"marker\":{\"colorbar\":{\"outlinewidth\":0,\"ticks\":\"\"}},\"type\":\"scatter3d\"}],\"scattercarpet\":[{\"marker\":{\"colorbar\":{\"outlinewidth\":0,\"ticks\":\"\"}},\"type\":\"scattercarpet\"}],\"scattergeo\":[{\"marker\":{\"colorbar\":{\"outlinewidth\":0,\"ticks\":\"\"}},\"type\":\"scattergeo\"}],\"scattergl\":[{\"marker\":{\"colorbar\":{\"outlinewidth\":0,\"ticks\":\"\"}},\"type\":\"scattergl\"}],\"scattermapbox\":[{\"marker\":{\"colorbar\":{\"outlinewidth\":0,\"ticks\":\"\"}},\"type\":\"scattermapbox\"}],\"scatterpolar\":[{\"marker\":{\"colorbar\":{\"outlinewidth\":0,\"ticks\":\"\"}},\"type\":\"scatterpolar\"}],\"scatterpolargl\":[{\"marker\":{\"colorbar\":{\"outlinewidth\":0,\"ticks\":\"\"}},\"type\":\"scatterpolargl\"}],\"scatterternary\":[{\"marker\":{\"colorbar\":{\"outlinewidth\":0,\"ticks\":\"\"}},\"type\":\"scatterternary\"}],\"surface\":[{\"colorbar\":{\"outlinewidth\":0,\"ticks\":\"\"},\"colorscale\":[[0.0,\"#0d0887\"],[0.1111111111111111,\"#46039f\"],[0.2222222222222222,\"#7201a8\"],[0.3333333333333333,\"#9c179e\"],[0.4444444444444444,\"#bd3786\"],[0.5555555555555556,\"#d8576b\"],[0.6666666666666666,\"#ed7953\"],[0.7777777777777778,\"#fb9f3a\"],[0.8888888888888888,\"#fdca26\"],[1.0,\"#f0f921\"]],\"type\":\"surface\"}],\"table\":[{\"cells\":{\"fill\":{\"color\":\"#EBF0F8\"},\"line\":{\"color\":\"white\"}},\"header\":{\"fill\":{\"color\":\"#C8D4E3\"},\"line\":{\"color\":\"white\"}},\"type\":\"table\"}]},\"layout\":{\"annotationdefaults\":{\"arrowcolor\":\"#2a3f5f\",\"arrowhead\":0,\"arrowwidth\":1},\"autotypenumbers\":\"strict\",\"coloraxis\":{\"colorbar\":{\"outlinewidth\":0,\"ticks\":\"\"}},\"colorscale\":{\"diverging\":[[0,\"#8e0152\"],[0.1,\"#c51b7d\"],[0.2,\"#de77ae\"],[0.3,\"#f1b6da\"],[0.4,\"#fde0ef\"],[0.5,\"#f7f7f7\"],[0.6,\"#e6f5d0\"],[0.7,\"#b8e186\"],[0.8,\"#7fbc41\"],[0.9,\"#4d9221\"],[1,\"#276419\"]],\"sequential\":[[0.0,\"#0d0887\"],[0.1111111111111111,\"#46039f\"],[0.2222222222222222,\"#7201a8\"],[0.3333333333333333,\"#9c179e\"],[0.4444444444444444,\"#bd3786\"],[0.5555555555555556,\"#d8576b\"],[0.6666666666666666,\"#ed7953\"],[0.7777777777777778,\"#fb9f3a\"],[0.8888888888888888,\"#fdca26\"],[1.0,\"#f0f921\"]],\"sequentialminus\":[[0.0,\"#0d0887\"],[0.1111111111111111,\"#46039f\"],[0.2222222222222222,\"#7201a8\"],[0.3333333333333333,\"#9c179e\"],[0.4444444444444444,\"#bd3786\"],[0.5555555555555556,\"#d8576b\"],[0.6666666666666666,\"#ed7953\"],[0.7777777777777778,\"#fb9f3a\"],[0.8888888888888888,\"#fdca26\"],[1.0,\"#f0f921\"]]},\"colorway\":[\"#636efa\",\"#EF553B\",\"#00cc96\",\"#ab63fa\",\"#FFA15A\",\"#19d3f3\",\"#FF6692\",\"#B6E880\",\"#FF97FF\",\"#FECB52\"],\"font\":{\"color\":\"#2a3f5f\"},\"geo\":{\"bgcolor\":\"white\",\"lakecolor\":\"white\",\"landcolor\":\"#E5ECF6\",\"showlakes\":true,\"showland\":true,\"subunitcolor\":\"white\"},\"hoverlabel\":{\"align\":\"left\"},\"hovermode\":\"closest\",\"mapbox\":{\"style\":\"light\"},\"paper_bgcolor\":\"white\",\"plot_bgcolor\":\"#E5ECF6\",\"polar\":{\"angularaxis\":{\"gridcolor\":\"white\",\"linecolor\":\"white\",\"ticks\":\"\"},\"bgcolor\":\"#E5ECF6\",\"radialaxis\":{\"gridcolor\":\"white\",\"linecolor\":\"white\",\"ticks\":\"\"}},\"scene\":{\"xaxis\":{\"backgroundcolor\":\"#E5ECF6\",\"gridcolor\":\"white\",\"gridwidth\":2,\"linecolor\":\"white\",\"showbackground\":true,\"ticks\":\"\",\"zerolinecolor\":\"white\"},\"yaxis\":{\"backgroundcolor\":\"#E5ECF6\",\"gridcolor\":\"white\",\"gridwidth\":2,\"linecolor\":\"white\",\"showbackground\":true,\"ticks\":\"\",\"zerolinecolor\":\"white\"},\"zaxis\":{\"backgroundcolor\":\"#E5ECF6\",\"gridcolor\":\"white\",\"gridwidth\":2,\"linecolor\":\"white\",\"showbackground\":true,\"ticks\":\"\",\"zerolinecolor\":\"white\"}},\"shapedefaults\":{\"line\":{\"color\":\"#2a3f5f\"}},\"ternary\":{\"aaxis\":{\"gridcolor\":\"white\",\"linecolor\":\"white\",\"ticks\":\"\"},\"baxis\":{\"gridcolor\":\"white\",\"linecolor\":\"white\",\"ticks\":\"\"},\"bgcolor\":\"#E5ECF6\",\"caxis\":{\"gridcolor\":\"white\",\"linecolor\":\"white\",\"ticks\":\"\"}},\"title\":{\"x\":0.05},\"xaxis\":{\"automargin\":true,\"gridcolor\":\"white\",\"linecolor\":\"white\",\"ticks\":\"\",\"title\":{\"standoff\":15},\"zerolinecolor\":\"white\",\"zerolinewidth\":2},\"yaxis\":{\"automargin\":true,\"gridcolor\":\"white\",\"linecolor\":\"white\",\"ticks\":\"\",\"title\":{\"standoff\":15},\"zerolinecolor\":\"white\",\"zerolinewidth\":2}}},\"xaxis\":{\"anchor\":\"y\",\"domain\":[0.0,1.0],\"scaleanchor\":\"y\",\"constrain\":\"domain\",\"showgrid\":false,\"title\":{}},\"yaxis\":{\"anchor\":\"x\",\"domain\":[0.0,1.0],\"autorange\":\"reversed\",\"constrain\":\"domain\",\"showgrid\":false,\"title\":{}},\"coloraxis\":{\"colorscale\":[[0.0,\"#0d0887\"],[0.1111111111111111,\"#46039f\"],[0.2222222222222222,\"#7201a8\"],[0.3333333333333333,\"#9c179e\"],[0.4444444444444444,\"#bd3786\"],[0.5555555555555556,\"#d8576b\"],[0.6666666666666666,\"#ed7953\"],[0.7777777777777778,\"#fb9f3a\"],[0.8888888888888888,\"#fdca26\"],[1.0,\"#f0f921\"]]},\"margin\":{\"t\":60},\"height\":800,\"width\":800,\"plot_bgcolor\":\"rgba(0,0,0,0)\",\"paper_bgcolor\":\"rgba(0,0,0,0)\"},                        {\"responsive\": true}                    ).then(function(){\n",
       "                            \n",
       "var gd = document.getElementById('f0c0190b-b1e8-44da-bffb-36ece3600a51');\n",
       "var x = new MutationObserver(function (mutations, observer) {{\n",
       "        var display = window.getComputedStyle(gd).display;\n",
       "        if (!display || display === 'none') {{\n",
       "            console.log([gd, 'removed!']);\n",
       "            Plotly.purge(gd);\n",
       "            observer.disconnect();\n",
       "        }}\n",
       "}});\n",
       "\n",
       "// Listen for the removal of the full notebook cells\n",
       "var notebookContainer = gd.closest('#notebook-container');\n",
       "if (notebookContainer) {{\n",
       "    x.observe(notebookContainer, {childList: true});\n",
       "}}\n",
       "\n",
       "// Listen for the clearing of the current output cell\n",
       "var outputEl = gd.closest('.output');\n",
       "if (outputEl) {{\n",
       "    x.observe(outputEl, {childList: true});\n",
       "}}\n",
       "\n",
       "                        })                };                });            </script>        </div>"
      ]
     },
     "metadata": {},
     "output_type": "display_data"
    }
   ],
   "source": [
    "fig = px.imshow(df_pivot,\n",
    "                x=list(range(2010,2019,1)),\n",
    "                y = df.sort_values(by='canton').canton.unique(),\n",
    "               width=800,height=800)\n",
    "\n",
    "layout_helper(fig).show()"
   ]
  },
  {
   "cell_type": "code",
   "execution_count": null,
   "id": "3c931b27-941f-4bd3-a4f1-1174cd547210",
   "metadata": {},
   "outputs": [],
   "source": [
    "# cinemas?"
   ]
  }
 ],
 "metadata": {
  "kernelspec": {
   "display_name": "Python [conda env:visuals] *",
   "language": "python",
   "name": "conda-env-visuals-py"
  },
  "language_info": {
   "codemirror_mode": {
    "name": "ipython",
    "version": 3
   },
   "file_extension": ".py",
   "mimetype": "text/x-python",
   "name": "python",
   "nbconvert_exporter": "python",
   "pygments_lexer": "ipython3",
   "version": "3.9.7"
  }
 },
 "nbformat": 4,
 "nbformat_minor": 5
}
