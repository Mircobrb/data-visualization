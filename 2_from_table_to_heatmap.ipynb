{
 "cells": [
  {
   "cell_type": "markdown",
   "id": "c15f81fe-f97d-44db-9692-9e6640cfb106",
   "metadata": {},
   "source": [
    "# 2. From Table to Heatmap"
   ]
  },
  {
   "cell_type": "code",
   "execution_count": null,
   "id": "a76dd7c8-867e-4b02-ba57-51e36bb784c1",
   "metadata": {},
   "outputs": [],
   "source": [
    "import plotly.express as px\n",
    "import pandas as pd\n",
    "import numpy as np"
   ]
  },
  {
   "cell_type": "code",
   "execution_count": null,
   "id": "beb2eba6-142b-49a7-8fd6-68fe85d839a0",
   "metadata": {},
   "outputs": [],
   "source": [
    "import plotly.graph_objects as go\n",
    "from plotly.colors import n_colors"
   ]
  },
  {
   "cell_type": "markdown",
   "id": "a6a82716-e260-4556-a50f-79cf7026164b",
   "metadata": {},
   "source": [
    "This is a layout helper function that is making our plots look a bit nicer, i.e. no grid in the background."
   ]
  },
  {
   "cell_type": "code",
   "execution_count": null,
   "id": "794c27f2-bf48-4394-8a78-161a15742a19",
   "metadata": {},
   "outputs": [],
   "source": [
    "def layout_helper(fig):\n",
    "    fig.update_layout(xaxis=dict(showgrid=False), yaxis=dict(showgrid=False))\n",
    "    fig.update_layout({'plot_bgcolor':'rgba(0,0,0,0)', 'paper_bgcolor':'rgba(0,0,0,0)'})\n",
    "    fig.update_layout(yaxis_title = None, xaxis_title = None)\n",
    "    return fig"
   ]
  },
  {
   "cell_type": "markdown",
   "id": "391fe023-b347-425d-a9c0-33125f9d7199",
   "metadata": {},
   "source": [
    "## Demo"
   ]
  },
  {
   "cell_type": "code",
   "execution_count": null,
   "id": "bf1c9f9d-a91c-49e6-82b0-61ebf1306b44",
   "metadata": {},
   "outputs": [],
   "source": [
    "df = pd.read_csv('https://thomann-public.s3.eu-west-1.amazonaws.com/jst-mapviz/cantons.csv')"
   ]
  },
  {
   "cell_type": "markdown",
   "id": "3f8f889f-a57a-483a-a45b-d681bacb5d3c",
   "metadata": {},
   "source": [
    "The most basic visualisation type is: a simple number!"
   ]
  },
  {
   "cell_type": "code",
   "execution_count": null,
   "id": "d884ea3e-26e5-49d8-87d9-47caad96f0ef",
   "metadata": {},
   "outputs": [],
   "source": [
    "from IPython.core.display import display, HTML\n",
    "display(HTML('<h1>{} cantons.</h1>'.format(len(df.canton.unique()))))"
   ]
  },
  {
   "cell_type": "markdown",
   "id": "bdb14807-08fb-4988-9d3b-2d23f6781d6d",
   "metadata": {},
   "source": [
    "Other well known-visualisation type: a table."
   ]
  },
  {
   "cell_type": "code",
   "execution_count": null,
   "id": "f4bd9c31-7517-458b-a500-1ff4dd75bfed",
   "metadata": {},
   "outputs": [],
   "source": [
    "# out-of-the-box table visualisation in jupyter lab:\n",
    "df[df.canton == 'Aargau'].head(10)"
   ]
  },
  {
   "cell_type": "markdown",
   "id": "fb49aef0-32e8-47d6-a8ac-ad61792a1443",
   "metadata": {},
   "source": [
    "### Table format matters"
   ]
  },
  {
   "cell_type": "code",
   "execution_count": null,
   "id": "8c833f18-480d-49e0-ba37-0155a8e3673b",
   "metadata": {},
   "outputs": [],
   "source": [
    "cantons = df.sort_values(by='canton').canton.unique()\n",
    "tax_2016 = df[df.year==2016].sort_values(by='canton').taxable_income_per_capita.reset_index(drop=True)\n",
    "tax_2017 = df[df.year==2017].sort_values(by='canton').taxable_income_per_capita.reset_index(drop=True)\n",
    "tax_2018 = df[df.year==2018].sort_values(by='canton').taxable_income_per_capita.reset_index(drop=True)"
   ]
  },
  {
   "cell_type": "code",
   "execution_count": null,
   "id": "c9a34278-c304-4719-968f-1861b493726b",
   "metadata": {
    "tags": []
   },
   "outputs": [],
   "source": [
    "fig = go.Figure(data=[go.Table(\n",
    "    header = dict(\n",
    "        values=['canton','Taxable income per capita [2016]','Taxable income per capita [2017]','Taxable income per capita [2018]'],\n",
    "        line_color='white',fill_color='black',\n",
    "        align='center',font=dict(color='white',size=10)\n",
    "    ),\n",
    "    cells=dict(\n",
    "        values= [ cantons,tax_2016,tax_2017, tax_2018\n",
    "                ])\n",
    ")\n",
    "                     ])\n",
    "\n",
    "fig.show()"
   ]
  },
  {
   "cell_type": "markdown",
   "id": "66fd3b14-1e65-4a08-b4fd-c7f4de211f27",
   "metadata": {},
   "source": [
    "### Add color"
   ]
  },
  {
   "cell_type": "code",
   "execution_count": null,
   "id": "96254bab-565a-46f6-b8fd-7fd866bbcde6",
   "metadata": {
    "tags": []
   },
   "outputs": [],
   "source": [
    "colors = np.array(n_colors('rgb(239,243,255)', 'rgb(8, 81, 156)', max(df.taxable_income_per_capita), colortype='rgb'))\n",
    "\n",
    "fig = go.Figure(data=[go.Table(\n",
    "    header = dict(\n",
    "        values=['canton','Taxable income per capita [2016]','Taxable income per capita [2017]','Taxable income per capita [2018]'],\n",
    "        line_color='white',fill_color='black',\n",
    "        align='center',font=dict(color='white',size=10)\n",
    "    ),\n",
    "    cells=dict(\n",
    "        values= [ cantons, tax_2016,tax_2017, tax_2018\n",
    "                ],\n",
    "        fill_color = ['white',colors[tax_2016], colors[tax_2017], colors[tax_2018]]\n",
    "    )\n",
    ")\n",
    "                     ])\n",
    "\n",
    "fig.show()"
   ]
  },
  {
   "cell_type": "code",
   "execution_count": null,
   "id": "3662a83f-6c6a-489c-b818-36a505062cb0",
   "metadata": {},
   "outputs": [],
   "source": [
    "tax_2010 = df[df.year==2010].sort_values(by='canton').taxable_income_per_capita.reset_index(drop=True)\n",
    "tax_2011 = df[df.year==2011].sort_values(by='canton').taxable_income_per_capita.reset_index(drop=True)\n",
    "tax_2012 = df[df.year==2012].sort_values(by='canton').taxable_income_per_capita.reset_index(drop=True)\n",
    "tax_2013 = df[df.year==2013].sort_values(by='canton').taxable_income_per_capita.reset_index(drop=True)\n",
    "tax_2014 = df[df.year==2014].sort_values(by='canton').taxable_income_per_capita.reset_index(drop=True)\n",
    "tax_2015 = df[df.year==2015].sort_values(by='canton').taxable_income_per_capita.reset_index(drop=True)"
   ]
  },
  {
   "cell_type": "code",
   "execution_count": null,
   "id": "24d67dec-5170-42b4-bfda-c9a71956146b",
   "metadata": {},
   "outputs": [],
   "source": [
    "df_pivot = pd.concat([tax_2010,tax_2011,tax_2012,tax_2013,tax_2014,tax_2015,tax_2016,tax_2017,tax_2018]\n",
    "                     ,axis=1,\n",
    "                    ignore_index=True)"
   ]
  },
  {
   "cell_type": "code",
   "execution_count": null,
   "id": "daec433b-e48d-4d84-b4be-65acb7a883da",
   "metadata": {},
   "outputs": [],
   "source": [
    "df_pivot"
   ]
  },
  {
   "cell_type": "code",
   "execution_count": null,
   "id": "4333eacf-314d-48ae-9bb8-7117be09f77d",
   "metadata": {},
   "outputs": [],
   "source": [
    "fig = px.imshow(df_pivot,\n",
    "                x=list(range(2010,2019,1)),\n",
    "                y = df.sort_values(by='canton').canton.unique(),\n",
    "                labels={'x':'Year','y':'Canton','color':'Taxable income per capita CHF'},\n",
    "               width=800,height=800)\n",
    "\n",
    "layout_helper(fig).show()"
   ]
  },
  {
   "cell_type": "code",
   "execution_count": null,
   "id": "a155a60a-3968-46ff-8fc9-65c00d2f1412",
   "metadata": {},
   "outputs": [],
   "source": []
  }
 ],
 "metadata": {
  "kernelspec": {
   "display_name": "Python [conda env:visuals] *",
   "language": "python",
   "name": "conda-env-visuals-py"
  },
  "language_info": {
   "codemirror_mode": {
    "name": "ipython",
    "version": 3
   },
   "file_extension": ".py",
   "mimetype": "text/x-python",
   "name": "python",
   "nbconvert_exporter": "python",
   "pygments_lexer": "ipython3",
   "version": "3.9.7"
  }
 },
 "nbformat": 4,
 "nbformat_minor": 5
}
