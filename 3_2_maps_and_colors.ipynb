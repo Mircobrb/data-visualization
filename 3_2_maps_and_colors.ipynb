{
 "cells": [
  {
   "cell_type": "markdown",
   "id": "622d27af-79ff-4d6b-8666-3113807fb9a0",
   "metadata": {},
   "source": [
    "# 3.2. Maps and Colors"
   ]
  },
  {
   "cell_type": "markdown",
   "id": "289d7751-0e43-4cca-891d-ad7aa1e9ad16",
   "metadata": {},
   "source": [
    "Load data "
   ]
  },
  {
   "cell_type": "code",
   "execution_count": null,
   "id": "9cd5a38c-2444-4c42-b5df-b48c8115f2f8",
   "metadata": {},
   "outputs": [],
   "source": [
    "import plotly.express as px\n",
    "import pandas as pd\n",
    "import numpy as np\n",
    "import json\n",
    "import urllib.request "
   ]
  },
  {
   "cell_type": "code",
   "execution_count": null,
   "id": "d64284e8-2e1d-4727-a7d6-2c6f4cbf30ce",
   "metadata": {},
   "outputs": [],
   "source": [
    "def layout_helper(fig):\n",
    "    fig.update_traces(marker_line_width=0.1)\n",
    "    return fig"
   ]
  },
  {
   "cell_type": "code",
   "execution_count": null,
   "id": "33dcbfaf-f5d0-416e-980a-c9aa4f104d86",
   "metadata": {},
   "outputs": [],
   "source": [
    "with urllib.request.urlopen(\n",
    "    \"https://thomann-public.s3.eu-west-1.amazonaws.com/jst-mapviz/ct_shape_int.geojson\") as url:\n",
    "    cantons = json.loads(url.read().decode())"
   ]
  },
  {
   "cell_type": "code",
   "execution_count": null,
   "id": "79d1fe02-86d5-43e2-9ad2-2910d54fe7c2",
   "metadata": {},
   "outputs": [],
   "source": [
    "with urllib.request.urlopen(\n",
    "    \"https://thomann-public.s3.eu-west-1.amazonaws.com/jst-mapviz/gmd_shape_int.geojson\") as url:\n",
    "    communities = json.loads(url.read().decode())"
   ]
  },
  {
   "cell_type": "code",
   "execution_count": null,
   "id": "72890e5d-990f-4492-a2c6-799746149c77",
   "metadata": {},
   "outputs": [],
   "source": [
    "#communities"
   ]
  },
  {
   "cell_type": "code",
   "execution_count": null,
   "id": "1241766f-cdf8-42c3-9575-9bdf358c138e",
   "metadata": {},
   "outputs": [],
   "source": [
    "df = pd.read_csv('https://thomann-public.s3.eu-west-1.amazonaws.com/jst-mapviz/cantons.csv',dtype={'canton_code':'str'})"
   ]
  },
  {
   "cell_type": "code",
   "execution_count": null,
   "id": "474cef91-a3b2-4103-9528-24fbdf06a28b",
   "metadata": {},
   "outputs": [],
   "source": [
    "df.head()"
   ]
  },
  {
   "cell_type": "code",
   "execution_count": null,
   "id": "a511bd1d-54a7-4f76-b8ac-21802d6cd2cf",
   "metadata": {},
   "outputs": [],
   "source": [
    "df = df[df['year'] == 2018]"
   ]
  },
  {
   "cell_type": "code",
   "execution_count": null,
   "id": "5078c735-1ae6-47f2-874c-4cc9d3ff03e2",
   "metadata": {},
   "outputs": [],
   "source": [
    "df_comm = pd.read_csv('https://thomann-public.s3.eu-west-1.amazonaws.com/jst-mapviz/communities.csv')\n",
    "df_comm = df_comm[df_comm['year']==2017]"
   ]
  },
  {
   "cell_type": "code",
   "execution_count": null,
   "id": "f29dbb7b-8759-4f2e-b5b8-b5627ad36d60",
   "metadata": {},
   "outputs": [],
   "source": [
    "df_comm.head(3)"
   ]
  },
  {
   "cell_type": "markdown",
   "id": "44ad641b-1db7-4317-9499-bc0044824ac1",
   "metadata": {},
   "source": [
    "As we will build the same type of visualisation over and over again, let's put this into a function."
   ]
  },
  {
   "cell_type": "code",
   "execution_count": null,
   "id": "be6fed26-f0e3-4005-b7cd-3fef85fc0e34",
   "metadata": {},
   "outputs": [],
   "source": [
    "def map_viz(df, geodata, geocode_df, geocode_json, colorvar):\n",
    "    fig = px.choropleth_mapbox(df, geojson=geodata,\n",
    "                           locations=df[geocode_df],\n",
    "                           featureidkey=\"properties.{}\".format(geocode_json),\n",
    "                           color=colorvar,\n",
    "                           mapbox_style=\"white-bg\",\n",
    "                           zoom=6.3, \n",
    "                           center = {\"lat\": 46.8, \"lon\": 8.5},\n",
    "                           width=900,height=500\n",
    "                           )\n",
    "    layout_helper(fig).show()"
   ]
  },
  {
   "cell_type": "markdown",
   "id": "72da85c1-c056-4c64-8fd8-8158e4fbce74",
   "metadata": {},
   "source": [
    "## How to discretise?\n",
    "### 1: Quantile bins"
   ]
  },
  {
   "cell_type": "code",
   "execution_count": null,
   "id": "0d0075be-dcec-4306-bbe8-83748aab8420",
   "metadata": {},
   "outputs": [],
   "source": [
    "df_comm['color_bins_n_10'] = pd.qcut(df_comm['taxable_income_per_capita'], q=10,labels=False)\n",
    "df_comm['color_bins_n_10_description'] = pd.qcut(df_comm['taxable_income_per_capita'], q=10)"
   ]
  },
  {
   "cell_type": "code",
   "execution_count": null,
   "id": "acde6e3d-e29b-4aa7-a90c-ee8ae843d769",
   "metadata": {},
   "outputs": [],
   "source": [
    "df_comm.head(3)"
   ]
  },
  {
   "cell_type": "code",
   "execution_count": null,
   "id": "273507ab-194e-49c6-8c7f-a6c5feacb757",
   "metadata": {},
   "outputs": [],
   "source": [
    "df_comm[['color_bins_n_10','color_bins_n_10_description']].drop_duplicates().sort_values(by='color_bins_n_10')"
   ]
  },
  {
   "cell_type": "code",
   "execution_count": null,
   "id": "f59d1205-ad28-498f-9279-58c209fd3218",
   "metadata": {},
   "outputs": [],
   "source": [
    "map_viz(df_comm,communities,'GMDNR','GMDNR','color_bins_n_10')"
   ]
  },
  {
   "cell_type": "markdown",
   "id": "cc6f2dc2-22dd-427e-ab19-641236efea3e",
   "metadata": {},
   "source": [
    "### 2: Fisher Jenks"
   ]
  },
  {
   "cell_type": "code",
   "execution_count": null,
   "id": "1502b7fb-66aa-404a-a7df-968070770592",
   "metadata": {},
   "outputs": [],
   "source": [
    "import jenkspy"
   ]
  },
  {
   "cell_type": "code",
   "execution_count": null,
   "id": "2d292b47-1a73-4d08-908d-de713d9b7c19",
   "metadata": {},
   "outputs": [],
   "source": [
    "breaks = jenkspy.jenks_breaks(df_comm['taxable_income_per_capita'], nb_class=10)"
   ]
  },
  {
   "cell_type": "code",
   "execution_count": null,
   "id": "c507251f-e8af-420f-a7a1-7e55bace10db",
   "metadata": {},
   "outputs": [],
   "source": [
    "breaks"
   ]
  },
  {
   "cell_type": "code",
   "execution_count": null,
   "id": "817721a6-a7cc-440b-98d0-ba0707b45651",
   "metadata": {},
   "outputs": [],
   "source": [
    "df_comm['cut_jenks'] = pd.cut(df_comm['taxable_income_per_capita'],\n",
    "                        bins=breaks,labels=False,include_lowest=True)"
   ]
  },
  {
   "cell_type": "code",
   "execution_count": null,
   "id": "a9a1ccf9-2209-4d20-87bf-a66efe83d797",
   "metadata": {},
   "outputs": [],
   "source": [
    "df_comm.head()"
   ]
  },
  {
   "cell_type": "code",
   "execution_count": null,
   "id": "ba08682f-eafa-4b47-82ff-b999aa98ffe0",
   "metadata": {},
   "outputs": [],
   "source": [
    "df_comm.cut_jenks.unique()"
   ]
  },
  {
   "cell_type": "code",
   "execution_count": null,
   "id": "263631a2-af85-42b3-a996-900d25c65d2b",
   "metadata": {},
   "outputs": [],
   "source": [
    "color_var='cut_jenks'"
   ]
  },
  {
   "cell_type": "code",
   "execution_count": null,
   "id": "865e490a-ce6c-4ef5-b9b0-37e740d1fbcf",
   "metadata": {},
   "outputs": [],
   "source": [
    "map_viz(df_comm,communities,'GMDNR','GMDNR','cut_jenks')"
   ]
  },
  {
   "cell_type": "markdown",
   "id": "ac64ea91-d195-44c4-8cf1-918b90705d45",
   "metadata": {},
   "source": [
    "### 3: Logarithm"
   ]
  },
  {
   "cell_type": "code",
   "execution_count": null,
   "id": "3484e923-88d9-4f51-8a20-7c162ac44c5c",
   "metadata": {},
   "outputs": [],
   "source": [
    "df_comm['log_taxable_income_per_capita'] = np.log10(df_comm['taxable_income_per_capita'])"
   ]
  },
  {
   "cell_type": "code",
   "execution_count": null,
   "id": "d1e474db-2079-477d-9e6e-11f50445e00b",
   "metadata": {},
   "outputs": [],
   "source": [
    "map_viz(df_comm,communities,'GMDNR','GMDNR','log_taxable_income_per_capita')"
   ]
  },
  {
   "cell_type": "markdown",
   "id": "eed8fe72-f0df-46a3-9be9-6831d7d2a108",
   "metadata": {},
   "source": [
    "### Try for yourself using the full dataset\n",
    "Load it from https://thomann-public.s3.eu-west-1.amazonaws.com/jst-mapviz/bfs_communities.csv"
   ]
  },
  {
   "cell_type": "code",
   "execution_count": null,
   "id": "4951746e-44ae-42ba-87c0-81875df4d93b",
   "metadata": {},
   "outputs": [],
   "source": []
  }
 ],
 "metadata": {
  "kernelspec": {
   "display_name": "Python [conda env:visuals] *",
   "language": "python",
   "name": "conda-env-visuals-py"
  },
  "language_info": {
   "codemirror_mode": {
    "name": "ipython",
    "version": 3
   },
   "file_extension": ".py",
   "mimetype": "text/x-python",
   "name": "python",
   "nbconvert_exporter": "python",
   "pygments_lexer": "ipython3",
   "version": "3.9.7"
  }
 },
 "nbformat": 4,
 "nbformat_minor": 5
}
