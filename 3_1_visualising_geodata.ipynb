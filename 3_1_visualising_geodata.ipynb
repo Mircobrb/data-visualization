{
 "cells": [
  {
   "cell_type": "markdown",
   "id": "622d27af-79ff-4d6b-8666-3113807fb9a0",
   "metadata": {},
   "source": [
    "# 3.1. Visualise geographical data"
   ]
  },
  {
   "cell_type": "markdown",
   "id": "289d7751-0e43-4cca-891d-ad7aa1e9ad16",
   "metadata": {},
   "source": [
    "Load data "
   ]
  },
  {
   "cell_type": "code",
   "execution_count": null,
   "id": "9cd5a38c-2444-4c42-b5df-b48c8115f2f8",
   "metadata": {},
   "outputs": [],
   "source": [
    "import plotly.express as px\n",
    "import pandas as pd\n",
    "import numpy as np\n",
    "import json\n",
    "import urllib.request "
   ]
  },
  {
   "cell_type": "code",
   "execution_count": null,
   "id": "d64284e8-2e1d-4727-a7d6-2c6f4cbf30ce",
   "metadata": {},
   "outputs": [],
   "source": [
    "def layout_helper(fig):\n",
    "    fig.update_traces(marker_line_width=0.1)\n",
    "    return fig"
   ]
  },
  {
   "cell_type": "code",
   "execution_count": null,
   "id": "33dcbfaf-f5d0-416e-980a-c9aa4f104d86",
   "metadata": {},
   "outputs": [],
   "source": [
    "with urllib.request.urlopen(\n",
    "    \"https://thomann-public.s3.eu-west-1.amazonaws.com/jst-mapviz/ct_shape_int.geojson\") as url:\n",
    "    cantons = json.loads(url.read().decode())"
   ]
  },
  {
   "cell_type": "code",
   "execution_count": null,
   "id": "79d1fe02-86d5-43e2-9ad2-2910d54fe7c2",
   "metadata": {},
   "outputs": [],
   "source": [
    "with urllib.request.urlopen(\n",
    "    \"https://thomann-public.s3.eu-west-1.amazonaws.com/jst-mapviz/gmd_shape_int.geojson\") as url:\n",
    "    communities = json.loads(url.read().decode())"
   ]
  },
  {
   "cell_type": "code",
   "execution_count": null,
   "id": "72890e5d-990f-4492-a2c6-799746149c77",
   "metadata": {},
   "outputs": [],
   "source": [
    "#communities"
   ]
  },
  {
   "cell_type": "code",
   "execution_count": null,
   "id": "1241766f-cdf8-42c3-9575-9bdf358c138e",
   "metadata": {},
   "outputs": [],
   "source": [
    "df = pd.read_csv('https://thomann-public.s3.eu-west-1.amazonaws.com/jst-mapviz/cantons.csv',dtype={'canton_code':'str'})"
   ]
  },
  {
   "cell_type": "code",
   "execution_count": null,
   "id": "474cef91-a3b2-4103-9528-24fbdf06a28b",
   "metadata": {},
   "outputs": [],
   "source": [
    "df.head()"
   ]
  },
  {
   "cell_type": "code",
   "execution_count": null,
   "id": "a511bd1d-54a7-4f76-b8ac-21802d6cd2cf",
   "metadata": {},
   "outputs": [],
   "source": [
    "df = df[df['year'] == 2018]"
   ]
  },
  {
   "cell_type": "code",
   "execution_count": null,
   "id": "5078c735-1ae6-47f2-874c-4cc9d3ff03e2",
   "metadata": {},
   "outputs": [],
   "source": [
    "df_comm = pd.read_csv('https://thomann-public.s3.eu-west-1.amazonaws.com/jst-mapviz/communities.csv')\n",
    "df_comm = df_comm[df_comm['year']==2017]"
   ]
  },
  {
   "cell_type": "code",
   "execution_count": null,
   "id": "f29dbb7b-8759-4f2e-b5b8-b5627ad36d60",
   "metadata": {},
   "outputs": [],
   "source": [
    "df_comm.head(3)"
   ]
  },
  {
   "cell_type": "markdown",
   "id": "44ad641b-1db7-4317-9499-bc0044824ac1",
   "metadata": {},
   "source": [
    "As we will build the same type of visualisation over and over again, let's put this into a function."
   ]
  },
  {
   "cell_type": "code",
   "execution_count": null,
   "id": "be6fed26-f0e3-4005-b7cd-3fef85fc0e34",
   "metadata": {},
   "outputs": [],
   "source": [
    "def map_viz(df, geodata, geocode_df, geocode_json, colorvar):\n",
    "    fig = px.choropleth_mapbox(df, geojson=geodata,\n",
    "                           locations=df[geocode_df],\n",
    "                           featureidkey=\"properties.{}\".format(geocode_json),\n",
    "                           color=colorvar,\n",
    "                           mapbox_style=\"white-bg\",\n",
    "                           zoom=6.3, \n",
    "                           center = {\"lat\": 46.8, \"lon\": 8.5},\n",
    "                           width=900,height=500\n",
    "                           )\n",
    "    layout_helper(fig).show()"
   ]
  },
  {
   "cell_type": "markdown",
   "id": "569f330c-d6e1-47a6-9d88-50920e1de189",
   "metadata": {},
   "source": [
    "We start by visualising canton data. Once on a white background, once on a map background."
   ]
  },
  {
   "cell_type": "code",
   "execution_count": null,
   "id": "aca0254b-1328-4ac1-91cc-3487ba4dad16",
   "metadata": {},
   "outputs": [],
   "source": [
    "map_viz(df,cantons,'canton_short','Kanton','taxable_income_per_capita')"
   ]
  },
  {
   "cell_type": "code",
   "execution_count": null,
   "id": "df106040-7674-4bda-88b2-9446379f8ed7",
   "metadata": {},
   "outputs": [],
   "source": [
    "fig = px.choropleth_mapbox(df, geojson=cantons,\n",
    "                           locations=df.canton_short,\n",
    "                           featureidkey=\"properties.Kanton\",\n",
    "                           color='taxable_income_chf',\n",
    "                           mapbox_style=\"carto-positron\",\n",
    "                           opacity=0.5,\n",
    "                           zoom=6.3, \n",
    "                           center = {\"lat\": 46.8, \"lon\": 8.5},\n",
    "                           width=900,height=500\n",
    "                           )\n",
    "layout_helper(fig).show()"
   ]
  },
  {
   "cell_type": "markdown",
   "id": "38f63d07-0f58-4f4c-8590-7e3cf85966e7",
   "metadata": {},
   "source": [
    "Let's make this more granular by going to the community level.\n",
    "Here, an important problem becomes apparent: sometimes using automatic color scaling does not work anymore, and instead you need to **discretise**."
   ]
  },
  {
   "cell_type": "code",
   "execution_count": null,
   "id": "8f6eef74-78ce-4d5b-8d66-b0c95dc9664b",
   "metadata": {},
   "outputs": [],
   "source": [
    "map_viz(df_comm,communities,'GMDNR','GMDNR','taxable_income_per_capita')"
   ]
  },
  {
   "cell_type": "code",
   "execution_count": null,
   "id": "b17ca4f4-6fce-4a24-950c-f18a51f6008c",
   "metadata": {},
   "outputs": [],
   "source": []
  }
 ],
 "metadata": {
  "kernelspec": {
   "display_name": "Python [conda env:visuals] *",
   "language": "python",
   "name": "conda-env-visuals-py"
  },
  "language_info": {
   "codemirror_mode": {
    "name": "ipython",
    "version": 3
   },
   "file_extension": ".py",
   "mimetype": "text/x-python",
   "name": "python",
   "nbconvert_exporter": "python",
   "pygments_lexer": "ipython3",
   "version": "3.9.7"
  }
 },
 "nbformat": 4,
 "nbformat_minor": 5
}
