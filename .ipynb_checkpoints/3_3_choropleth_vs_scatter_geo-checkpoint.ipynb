{
 "cells": [
  {
   "cell_type": "markdown",
   "id": "622d27af-79ff-4d6b-8666-3113807fb9a0",
   "metadata": {},
   "source": [
    "# 3.3. Choropleth map vs. Points on map (scatter geo)"
   ]
  },
  {
   "cell_type": "markdown",
   "id": "289d7751-0e43-4cca-891d-ad7aa1e9ad16",
   "metadata": {},
   "source": [
    "Prepare"
   ]
  },
  {
   "cell_type": "code",
   "execution_count": null,
   "id": "9cd5a38c-2444-4c42-b5df-b48c8115f2f8",
   "metadata": {},
   "outputs": [],
   "source": [
    "import plotly.express as px\n",
    "import pandas as pd\n",
    "import numpy as np\n",
    "import json\n",
    "import urllib.request "
   ]
  },
  {
   "cell_type": "code",
   "execution_count": null,
   "id": "d64284e8-2e1d-4727-a7d6-2c6f4cbf30ce",
   "metadata": {},
   "outputs": [],
   "source": [
    "def layout_helper(fig):\n",
    "    fig.update_traces(marker_line_width=0.1)\n",
    "    return fig"
   ]
  },
  {
   "cell_type": "code",
   "execution_count": null,
   "id": "79d1fe02-86d5-43e2-9ad2-2910d54fe7c2",
   "metadata": {},
   "outputs": [],
   "source": [
    "with urllib.request.urlopen(\n",
    "    \"https://thomann-public.s3.eu-west-1.amazonaws.com/jst-mapviz/gmd_shape_int.geojson\") as url:\n",
    "    communities = json.loads(url.read().decode())"
   ]
  },
  {
   "cell_type": "markdown",
   "id": "44ad641b-1db7-4317-9499-bc0044824ac1",
   "metadata": {},
   "source": [
    "As we will build the same type of visualisation over and over again, let's put this into a function."
   ]
  },
  {
   "cell_type": "code",
   "execution_count": null,
   "id": "be6fed26-f0e3-4005-b7cd-3fef85fc0e34",
   "metadata": {},
   "outputs": [],
   "source": [
    "def map_viz(df, geodata, geocode_df, geocode_json, colorvar):\n",
    "    fig = px.choropleth_mapbox(df, geojson=geodata,\n",
    "                           locations=df[geocode_df],\n",
    "                           featureidkey=\"properties.{}\".format(geocode_json),\n",
    "                           color=colorvar,\n",
    "                           mapbox_style=\"white-bg\",\n",
    "                           zoom=6.3, \n",
    "                           center = {\"lat\": 46.8, \"lon\": 8.5},\n",
    "                           width=900,height=500\n",
    "                           )\n",
    "    layout_helper(fig).show()"
   ]
  },
  {
   "cell_type": "markdown",
   "id": "ff4fb4da-ea5e-4be4-b44f-87c2a72f4697",
   "metadata": {},
   "source": [
    "We will load a wider dataset that contains more information for our communities.\n",
    "* population_total\n",
    "* population_foreigners\n",
    "* population_age_20_to_39\n",
    "* population_ratio_foreigners\n",
    "*population_ratio_age_20_to_39\n",
    "*taxable_income_chf\n",
    "*taxable_income_per_capita\n",
    "*cinema_number\n",
    "*cinema_hall_number\n",
    "*cinema_seats_number\n",
    "*vacancy_rate\n",
    "*car_number_total\n",
    "*car_number_electric_hybrid\n",
    "*car_ratio_electric_hybrid\n",
    "*population_immigrants_this_year_20_to_39\n",
    "*population_immigrants_this_year\n",
    "*party_strength_svp\n",
    "*party_strength_sp\n",
    "*party_strength_gps\n",
    "*party_strength_fdp\n",
    "*party_strength_glp\n",
    "*party_strength_cvp\n",
    "*party_strength_bdp\n",
    "*party_strength_evp\n",
    "*party_strength_other\n",
    "*turnout"
   ]
  },
  {
   "cell_type": "code",
   "execution_count": null,
   "id": "fb37b871-cf3a-4921-91a3-371033659339",
   "metadata": {},
   "outputs": [],
   "source": [
    "df_bfs = pd.read_csv('https://thomann-public.s3.eu-west-1.amazonaws.com/jst-mapviz/bfs_communities.csv')"
   ]
  },
  {
   "cell_type": "markdown",
   "id": "44a9843b-148d-4730-a810-808704a825cd",
   "metadata": {},
   "source": [
    "Let's take for instance the number of cinemas.\n",
    "Visualising this on a choropleth map as before looks a bit odd, and it doesn't really tell us quickly at one glance which city has the most cinemas."
   ]
  },
  {
   "cell_type": "code",
   "execution_count": null,
   "id": "2b1f7898-6748-4686-8f85-c831471c6aae",
   "metadata": {},
   "outputs": [],
   "source": [
    "map_viz(df_bfs,communities,'community_code','GMDNR','cinema_number')"
   ]
  },
  {
   "cell_type": "markdown",
   "id": "9b102b92-5552-4a8a-b333-5e129982db11",
   "metadata": {},
   "source": [
    "Instead, we want to visualise this as **points on a map** (scatter on map).\n",
    "For this, we need to load centroids of the cantons and we need to add this information to our dataframe."
   ]
  },
  {
   "cell_type": "code",
   "execution_count": null,
   "id": "d2721af7-ffa5-4564-86ed-ebfa92d85814",
   "metadata": {},
   "outputs": [],
   "source": [
    "with urllib.request.urlopen(\n",
    "    \"https://thomann-public.s3.eu-west-1.amazonaws.com/jst-mapviz/gmd_point_int.geojson\") as url:\n",
    "    communities_point = json.loads(url.read().decode())"
   ]
  },
  {
   "cell_type": "code",
   "execution_count": null,
   "id": "75ac121f-9a7e-4bb8-b6f0-274c874eed97",
   "metadata": {},
   "outputs": [],
   "source": [
    "com = pd.json_normalize(communities_point['features'])"
   ]
  },
  {
   "cell_type": "code",
   "execution_count": null,
   "id": "206eb4fb-cd29-46ec-a1ae-a2fd994ca603",
   "metadata": {},
   "outputs": [],
   "source": [
    "com = com.merge(df_bfs, left_on='properties.GMDNR',right_on='community_code',how='left')"
   ]
  },
  {
   "cell_type": "code",
   "execution_count": null,
   "id": "a7b1a24a-5976-4400-b949-91f854aed757",
   "metadata": {},
   "outputs": [],
   "source": [
    "def split_coordinates(coordinate, returnvalue):\n",
    "    long = coordinate[0]\n",
    "    lat = coordinate[1]\n",
    "    if returnvalue=='lat':\n",
    "        return lat\n",
    "    else:\n",
    "        return long\n"
   ]
  },
  {
   "cell_type": "code",
   "execution_count": null,
   "id": "c8820282-0d49-478c-8158-d9796cbc9b40",
   "metadata": {},
   "outputs": [],
   "source": [
    "com['latitude'] = com['geometry.coordinates'].apply(split_coordinates,returnvalue='lat')\n",
    "com['longitude'] = com['geometry.coordinates'].apply(split_coordinates,returnvalue='long')"
   ]
  },
  {
   "cell_type": "code",
   "execution_count": null,
   "id": "7ffbd36c-264c-42ce-9650-84285f1c640c",
   "metadata": {},
   "outputs": [],
   "source": [
    "fig = px.scatter_mapbox(com_cinema, lat=\"latitude\", lon=\"longitude\", size=\"cinema_number\",\n",
    "                  size_max=20, zoom=6.3, mapbox_style=\"carto-positron\",width=800,height=500)\n",
    "fig.show()"
   ]
  },
  {
   "cell_type": "markdown",
   "id": "431f0988-5696-47b8-8583-d698f88ca233",
   "metadata": {},
   "source": [
    "Also, using scatter on map, we can also visualise two attributes at once (one for size, one for color). With choropleth maps, you are limited to showing just one attribute."
   ]
  },
  {
   "cell_type": "code",
   "execution_count": null,
   "id": "593e839f-08c9-4800-9b2f-8707684b9d0d",
   "metadata": {},
   "outputs": [],
   "source": [
    "fig = px.scatter_mapbox(com_cinema, lat=\"latitude\", lon=\"longitude\", size=\"cinema_number\",color='cinema_seats_number',\n",
    "                  size_max=20, zoom=6.3, mapbox_style=\"carto-positron\",width=800,height=500,\n",
    "                        color_continuous_scale=px.colors.sequential.matter)\n",
    "fig.show()"
   ]
  },
  {
   "cell_type": "markdown",
   "id": "df881397-a876-464f-8197-03dd695ac0bf",
   "metadata": {},
   "source": [
    "### Exercise\n",
    "Visualise some more variables that you find interesting from df_bfs using either choropleth or scatter on map."
   ]
  },
  {
   "cell_type": "code",
   "execution_count": null,
   "id": "b17ca4f4-6fce-4a24-950c-f18a51f6008c",
   "metadata": {},
   "outputs": [],
   "source": []
  }
 ],
 "metadata": {
  "kernelspec": {
   "display_name": "Python [conda env:visuals] *",
   "language": "python",
   "name": "conda-env-visuals-py"
  },
  "language_info": {
   "codemirror_mode": {
    "name": "ipython",
    "version": 3
   },
   "file_extension": ".py",
   "mimetype": "text/x-python",
   "name": "python",
   "nbconvert_exporter": "python",
   "pygments_lexer": "ipython3",
   "version": "3.9.7"
  }
 },
 "nbformat": 4,
 "nbformat_minor": 5
}
